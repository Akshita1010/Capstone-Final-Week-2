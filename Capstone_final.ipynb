{
  "nbformat": 4,
  "nbformat_minor": 0,
  "metadata": {
    "colab": {
      "name": "Capstone final.ipynb",
      "version": "0.3.2",
      "provenance": [],
      "collapsed_sections": []
    },
    "kernelspec": {
      "name": "python3",
      "display_name": "Python 3"
    }
  },
  "cells": [
    {
      "cell_type": "code",
      "metadata": {
        "id": "maYVW-tKV8NE",
        "colab_type": "code",
        "outputId": "d9a83e1d-5a93-4949-cc05-0b5b5d6702fd",
        "colab": {
          "base_uri": "https://localhost:8080/",
          "height": 17
        }
      },
      "source": [
        "import pandas as pd \n",
        "import numpy as np\n",
        "import matplotlib.pyplot as plt\n",
        "from sklearn.preprocessing import LabelEncoder\n",
        "from plotly.offline import init_notebook_mode, iplot\n",
        "from plotly.graph_objs import *\n",
        "init_notebook_mode(connected=True)\n",
        "import plotly.graph_objs as go\n",
        "import string\n",
        "import os"
      ],
      "execution_count": 0,
      "outputs": [
        {
          "output_type": "display_data",
          "data": {
            "text/vnd.plotly.v1+html": "<script type=\"text/javascript\">window.PlotlyConfig = {MathJaxConfig: 'local'};</script><script type=\"text/javascript\">if (window.MathJax) {MathJax.Hub.Config({SVG: {font: \"STIX-Web\"}});}</script><script>requirejs.config({paths: { 'plotly': ['https://cdn.plot.ly/plotly-latest.min']},});if(!window._Plotly) {require(['plotly'],function(plotly) {window._Plotly=plotly;});}</script>",
            "text/html": [
              "<script type=\"text/javascript\">window.PlotlyConfig = {MathJaxConfig: 'local'};</script><script type=\"text/javascript\">if (window.MathJax) {MathJax.Hub.Config({SVG: {font: \"STIX-Web\"}});}</script><script>requirejs.config({paths: { 'plotly': ['https://cdn.plot.ly/plotly-latest.min']},});if(!window._Plotly) {require(['plotly'],function(plotly) {window._Plotly=plotly;});}</script>"
            ]
          },
          "metadata": {
            "tags": []
          }
        }
      ]
    },
    {
      "cell_type": "code",
      "metadata": {
        "id": "X9NNtVJ6ivgk",
        "colab_type": "code",
        "outputId": "2b23ddad-0476-406c-ff3f-b8b006bc79a2",
        "colab": {
          "base_uri": "https://localhost:8080/",
          "height": 72
        }
      },
      "source": [
        "import numpy as np # library to handle data in a vectorized manner\n",
        "\n",
        "import pandas as pd # library for data analsysis\n",
        "pd.set_option('display.max_columns', None)\n",
        "pd.set_option('display.max_rows', None)\n",
        "\n",
        "import json # library to handle JSON files\n",
        "\n",
        "!conda install -c conda-forge geopy --yes # uncomment this line if you haven't completed the Foursquare API lab\n",
        "from geopy.geocoders import Nominatim # convert an address into latitude and longitude values\n",
        "\n",
        "import requests # library to handle requests\n",
        "from pandas.io.json import json_normalize # tranform JSON file into a pandas dataframe\n",
        "\n",
        "# Matplotlib and associated plotting modules\n",
        "import matplotlib.cm as cm\n",
        "import matplotlib.colors as colors\n",
        "\n",
        "# import k-means from clustering stage\n",
        "from sklearn.cluster import KMeans\n",
        "\n",
        "\n",
        "import xml\n",
        "\n",
        "!conda install -c conda-forge folium=0.5.0 --yes # uncomment this line if you haven't completed the Foursquare API lab\n",
        "import folium # map rendering library\n",
        "\n",
        "print('Libraries imported.')"
      ],
      "execution_count": 0,
      "outputs": [
        {
          "output_type": "stream",
          "text": [
            "/bin/bash: conda: command not found\n",
            "/bin/bash: conda: command not found\n",
            "Libraries imported.\n"
          ],
          "name": "stdout"
        }
      ]
    },
    {
      "cell_type": "code",
      "metadata": {
        "id": "HwdVLHLCah1m",
        "colab_type": "code",
        "colab": {}
      },
      "source": [
        "F1=pd.read_csv(\"chefmozaccepts.csv\")\n",
        "F2=pd.read_csv(\"chefmozcuisine.csv\")\n",
        "F3=pd.read_csv(\"chefmozhours4.csv\")\n",
        "F4=pd.read_csv(\"chefmozparking.csv\")\n",
        "F5=pd.read_csv(\"usercuisine.csv\")\n",
        "F6=pd.read_csv(\"userpayment.csv\")\n",
        "F7=pd.read_csv(\"userprofile.csv\")\n",
        "F8=pd.read_csv(\"geoplaces2.csv\")\n",
        "\n",
        "T=pd.read_csv(\"rating_final.csv\")"
      ],
      "execution_count": 0,
      "outputs": []
    },
    {
      "cell_type": "markdown",
      "metadata": {
        "id": "TfipZRQ7ikUz",
        "colab_type": "text"
      },
      "source": [
        "\n",
        "## Data Preprocessing\n",
        "\n",
        "### Let's first inspect each of these data frames\n"
      ]
    },
    {
      "cell_type": "code",
      "metadata": {
        "id": "mIGEPgfqbBrp",
        "colab_type": "code",
        "outputId": "0a46c682-e17b-4aed-e337-af1d8ff12085",
        "colab": {
          "base_uri": "https://localhost:8080/",
          "height": 206
        }
      },
      "source": [
        "F1.head()"
      ],
      "execution_count": 0,
      "outputs": [
        {
          "output_type": "execute_result",
          "data": {
            "text/html": [
              "<div>\n",
              "<style scoped>\n",
              "    .dataframe tbody tr th:only-of-type {\n",
              "        vertical-align: middle;\n",
              "    }\n",
              "\n",
              "    .dataframe tbody tr th {\n",
              "        vertical-align: top;\n",
              "    }\n",
              "\n",
              "    .dataframe thead th {\n",
              "        text-align: right;\n",
              "    }\n",
              "</style>\n",
              "<table border=\"1\" class=\"dataframe\">\n",
              "  <thead>\n",
              "    <tr style=\"text-align: right;\">\n",
              "      <th></th>\n",
              "      <th>placeID</th>\n",
              "      <th>Rpayment</th>\n",
              "    </tr>\n",
              "  </thead>\n",
              "  <tbody>\n",
              "    <tr>\n",
              "      <th>0</th>\n",
              "      <td>135110</td>\n",
              "      <td>cash</td>\n",
              "    </tr>\n",
              "    <tr>\n",
              "      <th>1</th>\n",
              "      <td>135110</td>\n",
              "      <td>VISA</td>\n",
              "    </tr>\n",
              "    <tr>\n",
              "      <th>2</th>\n",
              "      <td>135110</td>\n",
              "      <td>MasterCard-Eurocard</td>\n",
              "    </tr>\n",
              "    <tr>\n",
              "      <th>3</th>\n",
              "      <td>135110</td>\n",
              "      <td>American_Express</td>\n",
              "    </tr>\n",
              "    <tr>\n",
              "      <th>4</th>\n",
              "      <td>135110</td>\n",
              "      <td>bank_debit_cards</td>\n",
              "    </tr>\n",
              "  </tbody>\n",
              "</table>\n",
              "</div>"
            ],
            "text/plain": [
              "   placeID             Rpayment\n",
              "0   135110                 cash\n",
              "1   135110                 VISA\n",
              "2   135110  MasterCard-Eurocard\n",
              "3   135110     American_Express\n",
              "4   135110     bank_debit_cards"
            ]
          },
          "metadata": {
            "tags": []
          },
          "execution_count": 3
        }
      ]
    },
    {
      "cell_type": "code",
      "metadata": {
        "id": "MIT5XMHxbKyb",
        "colab_type": "code",
        "outputId": "43dee497-1b79-4441-8895-45dd47f2dd8e",
        "colab": {
          "base_uri": "https://localhost:8080/",
          "height": 148
        }
      },
      "source": [
        "F1.info()"
      ],
      "execution_count": 0,
      "outputs": [
        {
          "output_type": "stream",
          "text": [
            "<class 'pandas.core.frame.DataFrame'>\n",
            "RangeIndex: 1314 entries, 0 to 1313\n",
            "Data columns (total 2 columns):\n",
            "placeID     1314 non-null int64\n",
            "Rpayment    1314 non-null object\n",
            "dtypes: int64(1), object(1)\n",
            "memory usage: 20.6+ KB\n"
          ],
          "name": "stdout"
        }
      ]
    },
    {
      "cell_type": "code",
      "metadata": {
        "id": "giO_xPpbbY2c",
        "colab_type": "code",
        "outputId": "2040cc4e-4f3f-4a8c-c7bd-04716244c11c",
        "colab": {
          "base_uri": "https://localhost:8080/",
          "height": 206
        }
      },
      "source": [
        "F2.head()"
      ],
      "execution_count": 0,
      "outputs": [
        {
          "output_type": "execute_result",
          "data": {
            "text/html": [
              "<div>\n",
              "<style scoped>\n",
              "    .dataframe tbody tr th:only-of-type {\n",
              "        vertical-align: middle;\n",
              "    }\n",
              "\n",
              "    .dataframe tbody tr th {\n",
              "        vertical-align: top;\n",
              "    }\n",
              "\n",
              "    .dataframe thead th {\n",
              "        text-align: right;\n",
              "    }\n",
              "</style>\n",
              "<table border=\"1\" class=\"dataframe\">\n",
              "  <thead>\n",
              "    <tr style=\"text-align: right;\">\n",
              "      <th></th>\n",
              "      <th>placeID</th>\n",
              "      <th>Rcuisine</th>\n",
              "    </tr>\n",
              "  </thead>\n",
              "  <tbody>\n",
              "    <tr>\n",
              "      <th>0</th>\n",
              "      <td>135110</td>\n",
              "      <td>Spanish</td>\n",
              "    </tr>\n",
              "    <tr>\n",
              "      <th>1</th>\n",
              "      <td>135109</td>\n",
              "      <td>Italian</td>\n",
              "    </tr>\n",
              "    <tr>\n",
              "      <th>2</th>\n",
              "      <td>135107</td>\n",
              "      <td>Latin_American</td>\n",
              "    </tr>\n",
              "    <tr>\n",
              "      <th>3</th>\n",
              "      <td>135106</td>\n",
              "      <td>Mexican</td>\n",
              "    </tr>\n",
              "    <tr>\n",
              "      <th>4</th>\n",
              "      <td>135105</td>\n",
              "      <td>Fast_Food</td>\n",
              "    </tr>\n",
              "  </tbody>\n",
              "</table>\n",
              "</div>"
            ],
            "text/plain": [
              "   placeID        Rcuisine\n",
              "0   135110         Spanish\n",
              "1   135109         Italian\n",
              "2   135107  Latin_American\n",
              "3   135106         Mexican\n",
              "4   135105       Fast_Food"
            ]
          },
          "metadata": {
            "tags": []
          },
          "execution_count": 5
        }
      ]
    },
    {
      "cell_type": "code",
      "metadata": {
        "id": "TFCBIF9Gbh4d",
        "colab_type": "code",
        "outputId": "2870a39e-d36b-4c8f-d9b8-dea96d488bbc",
        "colab": {
          "base_uri": "https://localhost:8080/",
          "height": 148
        }
      },
      "source": [
        "F2.info()"
      ],
      "execution_count": 0,
      "outputs": [
        {
          "output_type": "stream",
          "text": [
            "<class 'pandas.core.frame.DataFrame'>\n",
            "RangeIndex: 916 entries, 0 to 915\n",
            "Data columns (total 2 columns):\n",
            "placeID     916 non-null int64\n",
            "Rcuisine    916 non-null object\n",
            "dtypes: int64(1), object(1)\n",
            "memory usage: 14.4+ KB\n"
          ],
          "name": "stdout"
        }
      ]
    },
    {
      "cell_type": "code",
      "metadata": {
        "id": "i0bs4SWebkjr",
        "colab_type": "code",
        "outputId": "946a65a0-2e5b-4638-e4e9-192ed9b8791e",
        "colab": {
          "base_uri": "https://localhost:8080/",
          "height": 398
        }
      },
      "source": [
        "#plot to visualize top cuisines offered by the restaurants\n",
        "F2plt=F2.Rcuisine.value_counts()[:10].plot.bar(title=\"Top 10 cuisine\")\n",
        "F2plt.set_xlabel('cuisine',size=15)\n",
        "F2plt.set_ylabel('count',size=15)"
      ],
      "execution_count": 0,
      "outputs": [
        {
          "output_type": "execute_result",
          "data": {
            "text/plain": [
              "Text(0, 0.5, 'count')"
            ]
          },
          "metadata": {
            "tags": []
          },
          "execution_count": 7
        },
        {
          "output_type": "display_data",
          "data": {
            "image/png": "[encoded data removed]",
            "text/plain": [
              "<Figure size 432x288 with 1 Axes>"
            ]
          },
          "metadata": {
            "tags": []
          }
        }
      ]
    },
    {
      "cell_type": "code",
      "metadata": {
        "id": "7rvRlYDcbygM",
        "colab_type": "code",
        "outputId": "53b3a3c3-4dbc-4a5e-c51a-5342e03f6542",
        "colab": {
          "base_uri": "https://localhost:8080/",
          "height": 36
        }
      },
      "source": [
        "#creating dummy variables for different cuisines.\n",
        "F2dum = pd.get_dummies(F2,columns=['Rcuisine'])\n",
        "F2dum1 = F2dum.groupby('placeID',as_index=False).sum()\n",
        "len(F2dum1)"
      ],
      "execution_count": 0,
      "outputs": [
        {
          "output_type": "execute_result",
          "data": {
            "text/plain": [
              "769"
            ]
          },
          "metadata": {
            "tags": []
          },
          "execution_count": 8
        }
      ]
    },
    {
      "cell_type": "code",
      "metadata": {
        "id": "Fxx2DHWWb2aY",
        "colab_type": "code",
        "outputId": "e0104397-14fa-434a-e5f0-79c9fc801acf",
        "colab": {
          "base_uri": "https://localhost:8080/",
          "height": 243
        }
      },
      "source": [
        "F2dum1.head()"
      ],
      "execution_count": 0,
      "outputs": [
        {
          "output_type": "execute_result",
          "data": {
            "text/html": [
              "<div>\n",
              "<style scoped>\n",
              "    .dataframe tbody tr th:only-of-type {\n",
              "        vertical-align: middle;\n",
              "    }\n",
              "\n",
              "    .dataframe tbody tr th {\n",
              "        vertical-align: top;\n",
              "    }\n",
              "\n",
              "    .dataframe thead th {\n",
              "        text-align: right;\n",
              "    }\n",
              "</style>\n",
              "<table border=\"1\" class=\"dataframe\">\n",
              "  <thead>\n",
              "    <tr style=\"text-align: right;\">\n",
              "      <th></th>\n",
              "      <th>placeID</th>\n",
              "      <th>Rcuisine_Afghan</th>\n",
              "      <th>Rcuisine_African</th>\n",
              "      <th>Rcuisine_American</th>\n",
              "      <th>Rcuisine_Armenian</th>\n",
              "      <th>Rcuisine_Asian</th>\n",
              "      <th>Rcuisine_Bagels</th>\n",
              "      <th>Rcuisine_Bakery</th>\n",
              "      <th>Rcuisine_Bar</th>\n",
              "      <th>Rcuisine_Bar_Pub_Brewery</th>\n",
              "      <th>Rcuisine_Barbecue</th>\n",
              "      <th>Rcuisine_Brazilian</th>\n",
              "      <th>Rcuisine_Breakfast-Brunch</th>\n",
              "      <th>Rcuisine_Burgers</th>\n",
              "      <th>Rcuisine_Cafe-Coffee_Shop</th>\n",
              "      <th>Rcuisine_Cafeteria</th>\n",
              "      <th>Rcuisine_California</th>\n",
              "      <th>Rcuisine_Caribbean</th>\n",
              "      <th>Rcuisine_Chinese</th>\n",
              "      <th>Rcuisine_Contemporary</th>\n",
              "      <th>Rcuisine_Continental-European</th>\n",
              "      <th>Rcuisine_Deli-Sandwiches</th>\n",
              "      <th>Rcuisine_Dessert-Ice_Cream</th>\n",
              "      <th>Rcuisine_Diner</th>\n",
              "      <th>Rcuisine_Dutch-Belgian</th>\n",
              "      <th>Rcuisine_Eastern_European</th>\n",
              "      <th>Rcuisine_Ethiopian</th>\n",
              "      <th>Rcuisine_Family</th>\n",
              "      <th>Rcuisine_Fast_Food</th>\n",
              "      <th>Rcuisine_Fine_Dining</th>\n",
              "      <th>Rcuisine_French</th>\n",
              "      <th>Rcuisine_Game</th>\n",
              "      <th>Rcuisine_German</th>\n",
              "      <th>Rcuisine_Greek</th>\n",
              "      <th>Rcuisine_Hot_Dogs</th>\n",
              "      <th>Rcuisine_International</th>\n",
              "      <th>Rcuisine_Italian</th>\n",
              "      <th>Rcuisine_Japanese</th>\n",
              "      <th>Rcuisine_Juice</th>\n",
              "      <th>Rcuisine_Korean</th>\n",
              "      <th>Rcuisine_Latin_American</th>\n",
              "      <th>Rcuisine_Mediterranean</th>\n",
              "      <th>Rcuisine_Mexican</th>\n",
              "      <th>Rcuisine_Mongolian</th>\n",
              "      <th>Rcuisine_Organic-Healthy</th>\n",
              "      <th>Rcuisine_Persian</th>\n",
              "      <th>Rcuisine_Pizzeria</th>\n",
              "      <th>Rcuisine_Polish</th>\n",
              "      <th>Rcuisine_Regional</th>\n",
              "      <th>Rcuisine_Seafood</th>\n",
              "      <th>Rcuisine_Soup</th>\n",
              "      <th>Rcuisine_Southern</th>\n",
              "      <th>Rcuisine_Southwestern</th>\n",
              "      <th>Rcuisine_Spanish</th>\n",
              "      <th>Rcuisine_Steaks</th>\n",
              "      <th>Rcuisine_Sushi</th>\n",
              "      <th>Rcuisine_Thai</th>\n",
              "      <th>Rcuisine_Turkish</th>\n",
              "      <th>Rcuisine_Vegetarian</th>\n",
              "      <th>Rcuisine_Vietnamese</th>\n",
              "    </tr>\n",
              "  </thead>\n",
              "  <tbody>\n",
              "    <tr>\n",
              "      <th>0</th>\n",
              "      <td>132001</td>\n",
              "      <td>0</td>\n",
              "      <td>0</td>\n",
              "      <td>0</td>\n",
              "      <td>0</td>\n",
              "      <td>0</td>\n",
              "      <td>0</td>\n",
              "      <td>0</td>\n",
              "      <td>0</td>\n",
              "      <td>0</td>\n",
              "      <td>0</td>\n",
              "      <td>0</td>\n",
              "      <td>0</td>\n",
              "      <td>0</td>\n",
              "      <td>0</td>\n",
              "      <td>0</td>\n",
              "      <td>0</td>\n",
              "      <td>0</td>\n",
              "      <td>0</td>\n",
              "      <td>0</td>\n",
              "      <td>0</td>\n",
              "      <td>0</td>\n",
              "      <td>0</td>\n",
              "      <td>0</td>\n",
              "      <td>1</td>\n",
              "      <td>0</td>\n",
              "      <td>0</td>\n",
              "      <td>0</td>\n",
              "      <td>0</td>\n",
              "      <td>0</td>\n",
              "      <td>0</td>\n",
              "      <td>0</td>\n",
              "      <td>0</td>\n",
              "      <td>0</td>\n",
              "      <td>0</td>\n",
              "      <td>0</td>\n",
              "      <td>0</td>\n",
              "      <td>0</td>\n",
              "      <td>0</td>\n",
              "      <td>0</td>\n",
              "      <td>0</td>\n",
              "      <td>0</td>\n",
              "      <td>0</td>\n",
              "      <td>0</td>\n",
              "      <td>0</td>\n",
              "      <td>0</td>\n",
              "      <td>0</td>\n",
              "      <td>0</td>\n",
              "      <td>0</td>\n",
              "      <td>0</td>\n",
              "      <td>0</td>\n",
              "      <td>0</td>\n",
              "      <td>0</td>\n",
              "      <td>0</td>\n",
              "      <td>0</td>\n",
              "      <td>0</td>\n",
              "      <td>0</td>\n",
              "      <td>0</td>\n",
              "      <td>0</td>\n",
              "      <td>0</td>\n",
              "    </tr>\n",
              "    <tr>\n",
              "      <th>1</th>\n",
              "      <td>132002</td>\n",
              "      <td>0</td>\n",
              "      <td>0</td>\n",
              "      <td>0</td>\n",
              "      <td>0</td>\n",
              "      <td>0</td>\n",
              "      <td>0</td>\n",
              "      <td>0</td>\n",
              "      <td>0</td>\n",
              "      <td>0</td>\n",
              "      <td>0</td>\n",
              "      <td>0</td>\n",
              "      <td>0</td>\n",
              "      <td>0</td>\n",
              "      <td>0</td>\n",
              "      <td>0</td>\n",
              "      <td>0</td>\n",
              "      <td>0</td>\n",
              "      <td>0</td>\n",
              "      <td>0</td>\n",
              "      <td>0</td>\n",
              "      <td>0</td>\n",
              "      <td>0</td>\n",
              "      <td>0</td>\n",
              "      <td>0</td>\n",
              "      <td>0</td>\n",
              "      <td>0</td>\n",
              "      <td>0</td>\n",
              "      <td>0</td>\n",
              "      <td>0</td>\n",
              "      <td>0</td>\n",
              "      <td>0</td>\n",
              "      <td>0</td>\n",
              "      <td>0</td>\n",
              "      <td>0</td>\n",
              "      <td>0</td>\n",
              "      <td>0</td>\n",
              "      <td>0</td>\n",
              "      <td>0</td>\n",
              "      <td>0</td>\n",
              "      <td>0</td>\n",
              "      <td>0</td>\n",
              "      <td>0</td>\n",
              "      <td>0</td>\n",
              "      <td>0</td>\n",
              "      <td>0</td>\n",
              "      <td>0</td>\n",
              "      <td>0</td>\n",
              "      <td>0</td>\n",
              "      <td>1</td>\n",
              "      <td>0</td>\n",
              "      <td>0</td>\n",
              "      <td>0</td>\n",
              "      <td>0</td>\n",
              "      <td>0</td>\n",
              "      <td>0</td>\n",
              "      <td>0</td>\n",
              "      <td>0</td>\n",
              "      <td>0</td>\n",
              "      <td>0</td>\n",
              "    </tr>\n",
              "    <tr>\n",
              "      <th>2</th>\n",
              "      <td>132003</td>\n",
              "      <td>0</td>\n",
              "      <td>0</td>\n",
              "      <td>0</td>\n",
              "      <td>0</td>\n",
              "      <td>0</td>\n",
              "      <td>0</td>\n",
              "      <td>0</td>\n",
              "      <td>0</td>\n",
              "      <td>0</td>\n",
              "      <td>0</td>\n",
              "      <td>0</td>\n",
              "      <td>0</td>\n",
              "      <td>0</td>\n",
              "      <td>0</td>\n",
              "      <td>0</td>\n",
              "      <td>0</td>\n",
              "      <td>0</td>\n",
              "      <td>0</td>\n",
              "      <td>0</td>\n",
              "      <td>0</td>\n",
              "      <td>0</td>\n",
              "      <td>0</td>\n",
              "      <td>0</td>\n",
              "      <td>0</td>\n",
              "      <td>0</td>\n",
              "      <td>0</td>\n",
              "      <td>0</td>\n",
              "      <td>0</td>\n",
              "      <td>0</td>\n",
              "      <td>0</td>\n",
              "      <td>0</td>\n",
              "      <td>0</td>\n",
              "      <td>0</td>\n",
              "      <td>0</td>\n",
              "      <td>1</td>\n",
              "      <td>0</td>\n",
              "      <td>0</td>\n",
              "      <td>0</td>\n",
              "      <td>0</td>\n",
              "      <td>0</td>\n",
              "      <td>0</td>\n",
              "      <td>0</td>\n",
              "      <td>0</td>\n",
              "      <td>0</td>\n",
              "      <td>0</td>\n",
              "      <td>0</td>\n",
              "      <td>0</td>\n",
              "      <td>0</td>\n",
              "      <td>0</td>\n",
              "      <td>0</td>\n",
              "      <td>0</td>\n",
              "      <td>0</td>\n",
              "      <td>0</td>\n",
              "      <td>0</td>\n",
              "      <td>0</td>\n",
              "      <td>0</td>\n",
              "      <td>0</td>\n",
              "      <td>0</td>\n",
              "      <td>0</td>\n",
              "    </tr>\n",
              "    <tr>\n",
              "      <th>3</th>\n",
              "      <td>132004</td>\n",
              "      <td>0</td>\n",
              "      <td>0</td>\n",
              "      <td>0</td>\n",
              "      <td>0</td>\n",
              "      <td>0</td>\n",
              "      <td>0</td>\n",
              "      <td>0</td>\n",
              "      <td>0</td>\n",
              "      <td>0</td>\n",
              "      <td>0</td>\n",
              "      <td>0</td>\n",
              "      <td>0</td>\n",
              "      <td>0</td>\n",
              "      <td>0</td>\n",
              "      <td>0</td>\n",
              "      <td>0</td>\n",
              "      <td>0</td>\n",
              "      <td>0</td>\n",
              "      <td>0</td>\n",
              "      <td>0</td>\n",
              "      <td>0</td>\n",
              "      <td>0</td>\n",
              "      <td>0</td>\n",
              "      <td>0</td>\n",
              "      <td>0</td>\n",
              "      <td>0</td>\n",
              "      <td>0</td>\n",
              "      <td>0</td>\n",
              "      <td>0</td>\n",
              "      <td>0</td>\n",
              "      <td>0</td>\n",
              "      <td>0</td>\n",
              "      <td>0</td>\n",
              "      <td>0</td>\n",
              "      <td>0</td>\n",
              "      <td>0</td>\n",
              "      <td>0</td>\n",
              "      <td>0</td>\n",
              "      <td>0</td>\n",
              "      <td>0</td>\n",
              "      <td>0</td>\n",
              "      <td>0</td>\n",
              "      <td>0</td>\n",
              "      <td>0</td>\n",
              "      <td>0</td>\n",
              "      <td>0</td>\n",
              "      <td>0</td>\n",
              "      <td>0</td>\n",
              "      <td>1</td>\n",
              "      <td>0</td>\n",
              "      <td>0</td>\n",
              "      <td>0</td>\n",
              "      <td>0</td>\n",
              "      <td>0</td>\n",
              "      <td>0</td>\n",
              "      <td>0</td>\n",
              "      <td>0</td>\n",
              "      <td>0</td>\n",
              "      <td>0</td>\n",
              "    </tr>\n",
              "    <tr>\n",
              "      <th>4</th>\n",
              "      <td>132005</td>\n",
              "      <td>0</td>\n",
              "      <td>0</td>\n",
              "      <td>0</td>\n",
              "      <td>0</td>\n",
              "      <td>0</td>\n",
              "      <td>0</td>\n",
              "      <td>0</td>\n",
              "      <td>0</td>\n",
              "      <td>0</td>\n",
              "      <td>0</td>\n",
              "      <td>0</td>\n",
              "      <td>0</td>\n",
              "      <td>0</td>\n",
              "      <td>0</td>\n",
              "      <td>0</td>\n",
              "      <td>0</td>\n",
              "      <td>0</td>\n",
              "      <td>0</td>\n",
              "      <td>0</td>\n",
              "      <td>0</td>\n",
              "      <td>0</td>\n",
              "      <td>0</td>\n",
              "      <td>0</td>\n",
              "      <td>0</td>\n",
              "      <td>0</td>\n",
              "      <td>0</td>\n",
              "      <td>0</td>\n",
              "      <td>0</td>\n",
              "      <td>0</td>\n",
              "      <td>1</td>\n",
              "      <td>0</td>\n",
              "      <td>0</td>\n",
              "      <td>0</td>\n",
              "      <td>0</td>\n",
              "      <td>0</td>\n",
              "      <td>0</td>\n",
              "      <td>0</td>\n",
              "      <td>0</td>\n",
              "      <td>0</td>\n",
              "      <td>0</td>\n",
              "      <td>0</td>\n",
              "      <td>0</td>\n",
              "      <td>0</td>\n",
              "      <td>0</td>\n",
              "      <td>0</td>\n",
              "      <td>0</td>\n",
              "      <td>0</td>\n",
              "      <td>0</td>\n",
              "      <td>1</td>\n",
              "      <td>0</td>\n",
              "      <td>0</td>\n",
              "      <td>0</td>\n",
              "      <td>0</td>\n",
              "      <td>0</td>\n",
              "      <td>0</td>\n",
              "      <td>0</td>\n",
              "      <td>0</td>\n",
              "      <td>0</td>\n",
              "      <td>0</td>\n",
              "    </tr>\n",
              "  </tbody>\n",
              "</table>\n",
              "</div>"
            ],
            "text/plain": [
              "   placeID  Rcuisine_Afghan  ...  Rcuisine_Vegetarian  Rcuisine_Vietnamese\n",
              "0   132001                0  ...                    0                    0\n",
              "1   132002                0  ...                    0                    0\n",
              "2   132003                0  ...                    0                    0\n",
              "3   132004                0  ...                    0                    0\n",
              "4   132005                0  ...                    0                    0\n",
              "\n",
              "[5 rows x 60 columns]"
            ]
          },
          "metadata": {
            "tags": []
          },
          "execution_count": 9
        }
      ]
    },
    {
      "cell_type": "code",
      "metadata": {
        "id": "363E-XRKcH1T",
        "colab_type": "code",
        "outputId": "a38f7c13-6c09-416c-cb1f-a98b28c5326c",
        "colab": {
          "base_uri": "https://localhost:8080/",
          "height": 206
        }
      },
      "source": [
        "F3.head()"
      ],
      "execution_count": 0,
      "outputs": [
        {
          "output_type": "execute_result",
          "data": {
            "text/html": [
              "<div>\n",
              "<style scoped>\n",
              "    .dataframe tbody tr th:only-of-type {\n",
              "        vertical-align: middle;\n",
              "    }\n",
              "\n",
              "    .dataframe tbody tr th {\n",
              "        vertical-align: top;\n",
              "    }\n",
              "\n",
              "    .dataframe thead th {\n",
              "        text-align: right;\n",
              "    }\n",
              "</style>\n",
              "<table border=\"1\" class=\"dataframe\">\n",
              "  <thead>\n",
              "    <tr style=\"text-align: right;\">\n",
              "      <th></th>\n",
              "      <th>placeID</th>\n",
              "      <th>hours</th>\n",
              "      <th>days</th>\n",
              "    </tr>\n",
              "  </thead>\n",
              "  <tbody>\n",
              "    <tr>\n",
              "      <th>0</th>\n",
              "      <td>135111</td>\n",
              "      <td>00:00-23:30;</td>\n",
              "      <td>Mon;Tue;Wed;Thu;Fri;</td>\n",
              "    </tr>\n",
              "    <tr>\n",
              "      <th>1</th>\n",
              "      <td>135111</td>\n",
              "      <td>00:00-23:30;</td>\n",
              "      <td>Sat;</td>\n",
              "    </tr>\n",
              "    <tr>\n",
              "      <th>2</th>\n",
              "      <td>135111</td>\n",
              "      <td>00:00-23:30;</td>\n",
              "      <td>Sun;</td>\n",
              "    </tr>\n",
              "    <tr>\n",
              "      <th>3</th>\n",
              "      <td>135110</td>\n",
              "      <td>08:00-19:00;</td>\n",
              "      <td>Mon;Tue;Wed;Thu;Fri;</td>\n",
              "    </tr>\n",
              "    <tr>\n",
              "      <th>4</th>\n",
              "      <td>135110</td>\n",
              "      <td>00:00-00:00;</td>\n",
              "      <td>Sat;</td>\n",
              "    </tr>\n",
              "  </tbody>\n",
              "</table>\n",
              "</div>"
            ],
            "text/plain": [
              "   placeID         hours                  days\n",
              "0   135111  00:00-23:30;  Mon;Tue;Wed;Thu;Fri;\n",
              "1   135111  00:00-23:30;                  Sat;\n",
              "2   135111  00:00-23:30;                  Sun;\n",
              "3   135110  08:00-19:00;  Mon;Tue;Wed;Thu;Fri;\n",
              "4   135110  00:00-00:00;                  Sat;"
            ]
          },
          "metadata": {
            "tags": []
          },
          "execution_count": 10
        }
      ]
    },
    {
      "cell_type": "code",
      "metadata": {
        "id": "LDHS40JFcOOw",
        "colab_type": "code",
        "outputId": "20241c46-6b1c-492b-d07c-9e0c7b4fb030",
        "colab": {
          "base_uri": "https://localhost:8080/",
          "height": 167
        }
      },
      "source": [
        "F3.info()"
      ],
      "execution_count": 0,
      "outputs": [
        {
          "output_type": "stream",
          "text": [
            "<class 'pandas.core.frame.DataFrame'>\n",
            "RangeIndex: 2339 entries, 0 to 2338\n",
            "Data columns (total 3 columns):\n",
            "placeID    2339 non-null int64\n",
            "hours      2339 non-null object\n",
            "days       2339 non-null object\n",
            "dtypes: int64(1), object(2)\n",
            "memory usage: 54.9+ KB\n"
          ],
          "name": "stdout"
        }
      ]
    },
    {
      "cell_type": "code",
      "metadata": {
        "id": "EIunpYxucTHc",
        "colab_type": "code",
        "outputId": "e06071cf-ed33-4a72-c855-966a24130465",
        "colab": {
          "base_uri": "https://localhost:8080/",
          "height": 206
        }
      },
      "source": [
        "F4.head()"
      ],
      "execution_count": 0,
      "outputs": [
        {
          "output_type": "execute_result",
          "data": {
            "text/html": [
              "<div>\n",
              "<style scoped>\n",
              "    .dataframe tbody tr th:only-of-type {\n",
              "        vertical-align: middle;\n",
              "    }\n",
              "\n",
              "    .dataframe tbody tr th {\n",
              "        vertical-align: top;\n",
              "    }\n",
              "\n",
              "    .dataframe thead th {\n",
              "        text-align: right;\n",
              "    }\n",
              "</style>\n",
              "<table border=\"1\" class=\"dataframe\">\n",
              "  <thead>\n",
              "    <tr style=\"text-align: right;\">\n",
              "      <th></th>\n",
              "      <th>placeID</th>\n",
              "      <th>parking_lot</th>\n",
              "    </tr>\n",
              "  </thead>\n",
              "  <tbody>\n",
              "    <tr>\n",
              "      <th>0</th>\n",
              "      <td>135111</td>\n",
              "      <td>public</td>\n",
              "    </tr>\n",
              "    <tr>\n",
              "      <th>1</th>\n",
              "      <td>135110</td>\n",
              "      <td>none</td>\n",
              "    </tr>\n",
              "    <tr>\n",
              "      <th>2</th>\n",
              "      <td>135109</td>\n",
              "      <td>none</td>\n",
              "    </tr>\n",
              "    <tr>\n",
              "      <th>3</th>\n",
              "      <td>135108</td>\n",
              "      <td>none</td>\n",
              "    </tr>\n",
              "    <tr>\n",
              "      <th>4</th>\n",
              "      <td>135107</td>\n",
              "      <td>none</td>\n",
              "    </tr>\n",
              "  </tbody>\n",
              "</table>\n",
              "</div>"
            ],
            "text/plain": [
              "   placeID parking_lot\n",
              "0   135111      public\n",
              "1   135110        none\n",
              "2   135109        none\n",
              "3   135108        none\n",
              "4   135107        none"
            ]
          },
          "metadata": {
            "tags": []
          },
          "execution_count": 12
        }
      ]
    },
    {
      "cell_type": "code",
      "metadata": {
        "id": "0fEISFL4cZeJ",
        "colab_type": "code",
        "outputId": "5d20ab3c-5885-4c11-85e3-19819d8cc39b",
        "colab": {
          "base_uri": "https://localhost:8080/",
          "height": 397
        }
      },
      "source": [
        "#plot to visualize available parking place at the Restaurants\n",
        "F4plt=F4.parking_lot.value_counts().plot.bar(title=\"parking place\")\n",
        "F4plt.set_xlabel('Available parking',size=15)\n",
        "F4plt.set_ylabel('count',size=15)"
      ],
      "execution_count": 0,
      "outputs": [
        {
          "output_type": "execute_result",
          "data": {
            "text/plain": [
              "Text(0, 0.5, 'count')"
            ]
          },
          "metadata": {
            "tags": []
          },
          "execution_count": 13
        },
        {
          "output_type": "display_data",
          "data": {
            "image/png": "[encoded data removed]",
            "text/plain": [
              "<Figure size 432x288 with 1 Axes>"
            ]
          },
          "metadata": {
            "tags": []
          }
        }
      ]
    },
    {
      "cell_type": "code",
      "metadata": {
        "id": "ceeYTWOycjRL",
        "colab_type": "code",
        "outputId": "9e9613c8-289f-4ad5-9799-d3eeb254c3be",
        "colab": {
          "base_uri": "https://localhost:8080/",
          "height": 36
        }
      },
      "source": [
        "#creating dummy variables for different parking lots.\n",
        "F4dum = pd.get_dummies(F4,columns=['parking_lot'])\n",
        "F4dum1 = F4dum.groupby('placeID',as_index=False).sum()\n",
        "len(F4dum1)"
      ],
      "execution_count": 0,
      "outputs": [
        {
          "output_type": "execute_result",
          "data": {
            "text/plain": [
              "675"
            ]
          },
          "metadata": {
            "tags": []
          },
          "execution_count": 14
        }
      ]
    },
    {
      "cell_type": "code",
      "metadata": {
        "id": "xhXNSfEockqb",
        "colab_type": "code",
        "outputId": "03c836e9-1a6a-4224-a9c5-741d0b180803",
        "colab": {
          "base_uri": "https://localhost:8080/",
          "height": 243
        }
      },
      "source": [
        "F4dum1.head()"
      ],
      "execution_count": 0,
      "outputs": [
        {
          "output_type": "execute_result",
          "data": {
            "text/html": [
              "<div>\n",
              "<style scoped>\n",
              "    .dataframe tbody tr th:only-of-type {\n",
              "        vertical-align: middle;\n",
              "    }\n",
              "\n",
              "    .dataframe tbody tr th {\n",
              "        vertical-align: top;\n",
              "    }\n",
              "\n",
              "    .dataframe thead th {\n",
              "        text-align: right;\n",
              "    }\n",
              "</style>\n",
              "<table border=\"1\" class=\"dataframe\">\n",
              "  <thead>\n",
              "    <tr style=\"text-align: right;\">\n",
              "      <th></th>\n",
              "      <th>placeID</th>\n",
              "      <th>parking_lot_fee</th>\n",
              "      <th>parking_lot_none</th>\n",
              "      <th>parking_lot_public</th>\n",
              "      <th>parking_lot_street</th>\n",
              "      <th>parking_lot_valet parking</th>\n",
              "      <th>parking_lot_validated parking</th>\n",
              "      <th>parking_lot_yes</th>\n",
              "    </tr>\n",
              "  </thead>\n",
              "  <tbody>\n",
              "    <tr>\n",
              "      <th>0</th>\n",
              "      <td>132012</td>\n",
              "      <td>0</td>\n",
              "      <td>0</td>\n",
              "      <td>1</td>\n",
              "      <td>1</td>\n",
              "      <td>0</td>\n",
              "      <td>0</td>\n",
              "      <td>0</td>\n",
              "    </tr>\n",
              "    <tr>\n",
              "      <th>1</th>\n",
              "      <td>132023</td>\n",
              "      <td>1</td>\n",
              "      <td>0</td>\n",
              "      <td>1</td>\n",
              "      <td>0</td>\n",
              "      <td>0</td>\n",
              "      <td>0</td>\n",
              "      <td>0</td>\n",
              "    </tr>\n",
              "    <tr>\n",
              "      <th>2</th>\n",
              "      <td>132024</td>\n",
              "      <td>0</td>\n",
              "      <td>0</td>\n",
              "      <td>0</td>\n",
              "      <td>1</td>\n",
              "      <td>0</td>\n",
              "      <td>0</td>\n",
              "      <td>0</td>\n",
              "    </tr>\n",
              "    <tr>\n",
              "      <th>3</th>\n",
              "      <td>132026</td>\n",
              "      <td>1</td>\n",
              "      <td>0</td>\n",
              "      <td>0</td>\n",
              "      <td>0</td>\n",
              "      <td>0</td>\n",
              "      <td>0</td>\n",
              "      <td>0</td>\n",
              "    </tr>\n",
              "    <tr>\n",
              "      <th>4</th>\n",
              "      <td>132030</td>\n",
              "      <td>0</td>\n",
              "      <td>0</td>\n",
              "      <td>0</td>\n",
              "      <td>1</td>\n",
              "      <td>0</td>\n",
              "      <td>0</td>\n",
              "      <td>0</td>\n",
              "    </tr>\n",
              "  </tbody>\n",
              "</table>\n",
              "</div>"
            ],
            "text/plain": [
              "   placeID  parking_lot_fee  ...  parking_lot_validated parking  parking_lot_yes\n",
              "0   132012                0  ...                              0                0\n",
              "1   132023                1  ...                              0                0\n",
              "2   132024                0  ...                              0                0\n",
              "3   132026                1  ...                              0                0\n",
              "4   132030                0  ...                              0                0\n",
              "\n",
              "[5 rows x 8 columns]"
            ]
          },
          "metadata": {
            "tags": []
          },
          "execution_count": 15
        }
      ]
    },
    {
      "cell_type": "code",
      "metadata": {
        "id": "fb_lN_nyco0A",
        "colab_type": "code",
        "outputId": "d7c140cb-4987-49cf-94e6-f623168a8209",
        "colab": {
          "base_uri": "https://localhost:8080/",
          "height": 206
        }
      },
      "source": [
        "F5.head()"
      ],
      "execution_count": 0,
      "outputs": [
        {
          "output_type": "execute_result",
          "data": {
            "text/html": [
              "<div>\n",
              "<style scoped>\n",
              "    .dataframe tbody tr th:only-of-type {\n",
              "        vertical-align: middle;\n",
              "    }\n",
              "\n",
              "    .dataframe tbody tr th {\n",
              "        vertical-align: top;\n",
              "    }\n",
              "\n",
              "    .dataframe thead th {\n",
              "        text-align: right;\n",
              "    }\n",
              "</style>\n",
              "<table border=\"1\" class=\"dataframe\">\n",
              "  <thead>\n",
              "    <tr style=\"text-align: right;\">\n",
              "      <th></th>\n",
              "      <th>userID</th>\n",
              "      <th>Rcuisine</th>\n",
              "    </tr>\n",
              "  </thead>\n",
              "  <tbody>\n",
              "    <tr>\n",
              "      <th>0</th>\n",
              "      <td>U1001</td>\n",
              "      <td>American</td>\n",
              "    </tr>\n",
              "    <tr>\n",
              "      <th>1</th>\n",
              "      <td>U1002</td>\n",
              "      <td>Mexican</td>\n",
              "    </tr>\n",
              "    <tr>\n",
              "      <th>2</th>\n",
              "      <td>U1003</td>\n",
              "      <td>Mexican</td>\n",
              "    </tr>\n",
              "    <tr>\n",
              "      <th>3</th>\n",
              "      <td>U1004</td>\n",
              "      <td>Bakery</td>\n",
              "    </tr>\n",
              "    <tr>\n",
              "      <th>4</th>\n",
              "      <td>U1004</td>\n",
              "      <td>Breakfast-Brunch</td>\n",
              "    </tr>\n",
              "  </tbody>\n",
              "</table>\n",
              "</div>"
            ],
            "text/plain": [
              "  userID          Rcuisine\n",
              "0  U1001          American\n",
              "1  U1002           Mexican\n",
              "2  U1003           Mexican\n",
              "3  U1004            Bakery\n",
              "4  U1004  Breakfast-Brunch"
            ]
          },
          "metadata": {
            "tags": []
          },
          "execution_count": 16
        }
      ]
    },
    {
      "cell_type": "code",
      "metadata": {
        "id": "vq52FPNLdSNL",
        "colab_type": "code",
        "outputId": "24cc4e85-b739-4961-c252-21818067398b",
        "colab": {
          "base_uri": "https://localhost:8080/",
          "height": 148
        }
      },
      "source": [
        "F5.info()"
      ],
      "execution_count": 0,
      "outputs": [
        {
          "output_type": "stream",
          "text": [
            "<class 'pandas.core.frame.DataFrame'>\n",
            "RangeIndex: 330 entries, 0 to 329\n",
            "Data columns (total 2 columns):\n",
            "userID      330 non-null object\n",
            "Rcuisine    330 non-null object\n",
            "dtypes: object(2)\n",
            "memory usage: 5.2+ KB\n"
          ],
          "name": "stdout"
        }
      ]
    },
    {
      "cell_type": "code",
      "metadata": {
        "id": "AmsRkjQEdcbp",
        "colab_type": "code",
        "outputId": "84a76357-a2d5-4d6d-be5c-2318d67343a6",
        "colab": {
          "base_uri": "https://localhost:8080/",
          "height": 398
        }
      },
      "source": [
        "#Top 10 favorite cuisines for the customers\n",
        "F5plt=F5.Rcuisine.value_counts()[:10].plot.bar(title=\"Top 10 user cuisine\")\n",
        "F5plt.set_xlabel('user cuisine',size=15)\n",
        "F5plt.set_ylabel('count',size=15)"
      ],
      "execution_count": 0,
      "outputs": [
        {
          "output_type": "execute_result",
          "data": {
            "text/plain": [
              "Text(0, 0.5, 'count')"
            ]
          },
          "metadata": {
            "tags": []
          },
          "execution_count": 18
        },
        {
          "output_type": "display_data",
          "data": {
            "image/png": "[encoded data removed]",
            "text/plain": [
              "<Figure size 432x288 with 1 Axes>"
            ]
          },
          "metadata": {
            "tags": []
          }
        }
      ]
    },
    {
      "cell_type": "code",
      "metadata": {
        "id": "carlWIE0dqpo",
        "colab_type": "code",
        "outputId": "0eb2b7bb-f40f-41cb-fd61-c0dd81f20f5a",
        "colab": {
          "base_uri": "https://localhost:8080/",
          "height": 36
        }
      },
      "source": [
        "#creating dummy variables for differen usercuisines.\n",
        "F5dum = pd.get_dummies(F5,columns=['Rcuisine'])\n",
        "F5dum1 = F5dum.groupby('userID',as_index=False).sum()\n",
        "len(F5dum1)"
      ],
      "execution_count": 0,
      "outputs": [
        {
          "output_type": "execute_result",
          "data": {
            "text/plain": [
              "138"
            ]
          },
          "metadata": {
            "tags": []
          },
          "execution_count": 19
        }
      ]
    },
    {
      "cell_type": "code",
      "metadata": {
        "id": "lWJ8qVGNdweZ",
        "colab_type": "code",
        "outputId": "d859c0a5-c441-46fa-99dd-2dd2ccd99a4f",
        "colab": {
          "base_uri": "https://localhost:8080/",
          "height": 273
        }
      },
      "source": [
        "F5dum1.head()"
      ],
      "execution_count": 0,
      "outputs": [
        {
          "output_type": "execute_result",
          "data": {
            "text/html": [
              "<div>\n",
              "<style scoped>\n",
              "    .dataframe tbody tr th:only-of-type {\n",
              "        vertical-align: middle;\n",
              "    }\n",
              "\n",
              "    .dataframe tbody tr th {\n",
              "        vertical-align: top;\n",
              "    }\n",
              "\n",
              "    .dataframe thead th {\n",
              "        text-align: right;\n",
              "    }\n",
              "</style>\n",
              "<table border=\"1\" class=\"dataframe\">\n",
              "  <thead>\n",
              "    <tr style=\"text-align: right;\">\n",
              "      <th></th>\n",
              "      <th>userID</th>\n",
              "      <th>Rcuisine_Afghan</th>\n",
              "      <th>Rcuisine_African</th>\n",
              "      <th>Rcuisine_American</th>\n",
              "      <th>Rcuisine_Armenian</th>\n",
              "      <th>Rcuisine_Asian</th>\n",
              "      <th>Rcuisine_Australian</th>\n",
              "      <th>Rcuisine_Austrian</th>\n",
              "      <th>Rcuisine_Bagels</th>\n",
              "      <th>Rcuisine_Bakery</th>\n",
              "      <th>Rcuisine_Bar</th>\n",
              "      <th>Rcuisine_Bar_Pub_Brewery</th>\n",
              "      <th>Rcuisine_Barbecue</th>\n",
              "      <th>Rcuisine_Basque</th>\n",
              "      <th>Rcuisine_Brazilian</th>\n",
              "      <th>Rcuisine_Breakfast-Brunch</th>\n",
              "      <th>Rcuisine_British</th>\n",
              "      <th>Rcuisine_Burgers</th>\n",
              "      <th>Rcuisine_Burmese</th>\n",
              "      <th>Rcuisine_Cafe-Coffee_Shop</th>\n",
              "      <th>Rcuisine_Cafeteria</th>\n",
              "      <th>Rcuisine_Cajun-Creole</th>\n",
              "      <th>Rcuisine_California</th>\n",
              "      <th>Rcuisine_Cambodian</th>\n",
              "      <th>Rcuisine_Canadian</th>\n",
              "      <th>Rcuisine_Caribbean</th>\n",
              "      <th>Rcuisine_Chilean</th>\n",
              "      <th>Rcuisine_Chinese</th>\n",
              "      <th>Rcuisine_Contemporary</th>\n",
              "      <th>Rcuisine_Continental-European</th>\n",
              "      <th>Rcuisine_Cuban</th>\n",
              "      <th>Rcuisine_Deli-Sandwiches</th>\n",
              "      <th>Rcuisine_Dessert-Ice_Cream</th>\n",
              "      <th>Rcuisine_Dim_Sum</th>\n",
              "      <th>Rcuisine_Diner</th>\n",
              "      <th>Rcuisine_Doughnuts</th>\n",
              "      <th>Rcuisine_Dutch-Belgian</th>\n",
              "      <th>Rcuisine_Eastern_European</th>\n",
              "      <th>Rcuisine_Eclectic</th>\n",
              "      <th>Rcuisine_Ethiopian</th>\n",
              "      <th>...</th>\n",
              "      <th>Rcuisine_Latin_American</th>\n",
              "      <th>Rcuisine_Lebanese</th>\n",
              "      <th>Rcuisine_Malaysian</th>\n",
              "      <th>Rcuisine_Mediterranean</th>\n",
              "      <th>Rcuisine_Mexican</th>\n",
              "      <th>Rcuisine_Middle_Eastern</th>\n",
              "      <th>Rcuisine_Mongolian</th>\n",
              "      <th>Rcuisine_Moroccan</th>\n",
              "      <th>Rcuisine_North_African</th>\n",
              "      <th>Rcuisine_Organic-Healthy</th>\n",
              "      <th>Rcuisine_Pacific_Northwest</th>\n",
              "      <th>Rcuisine_Pacific_Rim</th>\n",
              "      <th>Rcuisine_Persian</th>\n",
              "      <th>Rcuisine_Peruvian</th>\n",
              "      <th>Rcuisine_Pizzeria</th>\n",
              "      <th>Rcuisine_Polish</th>\n",
              "      <th>Rcuisine_Polynesian</th>\n",
              "      <th>Rcuisine_Portuguese</th>\n",
              "      <th>Rcuisine_Regional</th>\n",
              "      <th>Rcuisine_Romanian</th>\n",
              "      <th>Rcuisine_Russian-Ukrainian</th>\n",
              "      <th>Rcuisine_Scandinavian</th>\n",
              "      <th>Rcuisine_Seafood</th>\n",
              "      <th>Rcuisine_Soup</th>\n",
              "      <th>Rcuisine_Southeast_Asian</th>\n",
              "      <th>Rcuisine_Southern</th>\n",
              "      <th>Rcuisine_Southwestern</th>\n",
              "      <th>Rcuisine_Spanish</th>\n",
              "      <th>Rcuisine_Steaks</th>\n",
              "      <th>Rcuisine_Sushi</th>\n",
              "      <th>Rcuisine_Swiss</th>\n",
              "      <th>Rcuisine_Tapas</th>\n",
              "      <th>Rcuisine_Tea_House</th>\n",
              "      <th>Rcuisine_Tex-Mex</th>\n",
              "      <th>Rcuisine_Thai</th>\n",
              "      <th>Rcuisine_Tibetan</th>\n",
              "      <th>Rcuisine_Tunisian</th>\n",
              "      <th>Rcuisine_Turkish</th>\n",
              "      <th>Rcuisine_Vegetarian</th>\n",
              "      <th>Rcuisine_Vietnamese</th>\n",
              "    </tr>\n",
              "  </thead>\n",
              "  <tbody>\n",
              "    <tr>\n",
              "      <th>0</th>\n",
              "      <td>U1001</td>\n",
              "      <td>0</td>\n",
              "      <td>0</td>\n",
              "      <td>1</td>\n",
              "      <td>0</td>\n",
              "      <td>0</td>\n",
              "      <td>0</td>\n",
              "      <td>0</td>\n",
              "      <td>0</td>\n",
              "      <td>0</td>\n",
              "      <td>0</td>\n",
              "      <td>0</td>\n",
              "      <td>0</td>\n",
              "      <td>0</td>\n",
              "      <td>0</td>\n",
              "      <td>0</td>\n",
              "      <td>0</td>\n",
              "      <td>0</td>\n",
              "      <td>0</td>\n",
              "      <td>0</td>\n",
              "      <td>0</td>\n",
              "      <td>0</td>\n",
              "      <td>0</td>\n",
              "      <td>0</td>\n",
              "      <td>0</td>\n",
              "      <td>0</td>\n",
              "      <td>0</td>\n",
              "      <td>0</td>\n",
              "      <td>0</td>\n",
              "      <td>0</td>\n",
              "      <td>0</td>\n",
              "      <td>0</td>\n",
              "      <td>0</td>\n",
              "      <td>0</td>\n",
              "      <td>0</td>\n",
              "      <td>0</td>\n",
              "      <td>0</td>\n",
              "      <td>0</td>\n",
              "      <td>0</td>\n",
              "      <td>0</td>\n",
              "      <td>...</td>\n",
              "      <td>0</td>\n",
              "      <td>0</td>\n",
              "      <td>0</td>\n",
              "      <td>0</td>\n",
              "      <td>0</td>\n",
              "      <td>0</td>\n",
              "      <td>0</td>\n",
              "      <td>0</td>\n",
              "      <td>0</td>\n",
              "      <td>0</td>\n",
              "      <td>0</td>\n",
              "      <td>0</td>\n",
              "      <td>0</td>\n",
              "      <td>0</td>\n",
              "      <td>0</td>\n",
              "      <td>0</td>\n",
              "      <td>0</td>\n",
              "      <td>0</td>\n",
              "      <td>0</td>\n",
              "      <td>0</td>\n",
              "      <td>0</td>\n",
              "      <td>0</td>\n",
              "      <td>0</td>\n",
              "      <td>0</td>\n",
              "      <td>0</td>\n",
              "      <td>0</td>\n",
              "      <td>0</td>\n",
              "      <td>0</td>\n",
              "      <td>0</td>\n",
              "      <td>0</td>\n",
              "      <td>0</td>\n",
              "      <td>0</td>\n",
              "      <td>0</td>\n",
              "      <td>0</td>\n",
              "      <td>0</td>\n",
              "      <td>0</td>\n",
              "      <td>0</td>\n",
              "      <td>0</td>\n",
              "      <td>0</td>\n",
              "      <td>0</td>\n",
              "    </tr>\n",
              "    <tr>\n",
              "      <th>1</th>\n",
              "      <td>U1002</td>\n",
              "      <td>0</td>\n",
              "      <td>0</td>\n",
              "      <td>0</td>\n",
              "      <td>0</td>\n",
              "      <td>0</td>\n",
              "      <td>0</td>\n",
              "      <td>0</td>\n",
              "      <td>0</td>\n",
              "      <td>0</td>\n",
              "      <td>0</td>\n",
              "      <td>0</td>\n",
              "      <td>0</td>\n",
              "      <td>0</td>\n",
              "      <td>0</td>\n",
              "      <td>0</td>\n",
              "      <td>0</td>\n",
              "      <td>0</td>\n",
              "      <td>0</td>\n",
              "      <td>0</td>\n",
              "      <td>0</td>\n",
              "      <td>0</td>\n",
              "      <td>0</td>\n",
              "      <td>0</td>\n",
              "      <td>0</td>\n",
              "      <td>0</td>\n",
              "      <td>0</td>\n",
              "      <td>0</td>\n",
              "      <td>0</td>\n",
              "      <td>0</td>\n",
              "      <td>0</td>\n",
              "      <td>0</td>\n",
              "      <td>0</td>\n",
              "      <td>0</td>\n",
              "      <td>0</td>\n",
              "      <td>0</td>\n",
              "      <td>0</td>\n",
              "      <td>0</td>\n",
              "      <td>0</td>\n",
              "      <td>0</td>\n",
              "      <td>...</td>\n",
              "      <td>0</td>\n",
              "      <td>0</td>\n",
              "      <td>0</td>\n",
              "      <td>0</td>\n",
              "      <td>1</td>\n",
              "      <td>0</td>\n",
              "      <td>0</td>\n",
              "      <td>0</td>\n",
              "      <td>0</td>\n",
              "      <td>0</td>\n",
              "      <td>0</td>\n",
              "      <td>0</td>\n",
              "      <td>0</td>\n",
              "      <td>0</td>\n",
              "      <td>0</td>\n",
              "      <td>0</td>\n",
              "      <td>0</td>\n",
              "      <td>0</td>\n",
              "      <td>0</td>\n",
              "      <td>0</td>\n",
              "      <td>0</td>\n",
              "      <td>0</td>\n",
              "      <td>0</td>\n",
              "      <td>0</td>\n",
              "      <td>0</td>\n",
              "      <td>0</td>\n",
              "      <td>0</td>\n",
              "      <td>0</td>\n",
              "      <td>0</td>\n",
              "      <td>0</td>\n",
              "      <td>0</td>\n",
              "      <td>0</td>\n",
              "      <td>0</td>\n",
              "      <td>0</td>\n",
              "      <td>0</td>\n",
              "      <td>0</td>\n",
              "      <td>0</td>\n",
              "      <td>0</td>\n",
              "      <td>0</td>\n",
              "      <td>0</td>\n",
              "    </tr>\n",
              "    <tr>\n",
              "      <th>2</th>\n",
              "      <td>U1003</td>\n",
              "      <td>0</td>\n",
              "      <td>0</td>\n",
              "      <td>0</td>\n",
              "      <td>0</td>\n",
              "      <td>0</td>\n",
              "      <td>0</td>\n",
              "      <td>0</td>\n",
              "      <td>0</td>\n",
              "      <td>0</td>\n",
              "      <td>0</td>\n",
              "      <td>0</td>\n",
              "      <td>0</td>\n",
              "      <td>0</td>\n",
              "      <td>0</td>\n",
              "      <td>0</td>\n",
              "      <td>0</td>\n",
              "      <td>0</td>\n",
              "      <td>0</td>\n",
              "      <td>0</td>\n",
              "      <td>0</td>\n",
              "      <td>0</td>\n",
              "      <td>0</td>\n",
              "      <td>0</td>\n",
              "      <td>0</td>\n",
              "      <td>0</td>\n",
              "      <td>0</td>\n",
              "      <td>0</td>\n",
              "      <td>0</td>\n",
              "      <td>0</td>\n",
              "      <td>0</td>\n",
              "      <td>0</td>\n",
              "      <td>0</td>\n",
              "      <td>0</td>\n",
              "      <td>0</td>\n",
              "      <td>0</td>\n",
              "      <td>0</td>\n",
              "      <td>0</td>\n",
              "      <td>0</td>\n",
              "      <td>0</td>\n",
              "      <td>...</td>\n",
              "      <td>0</td>\n",
              "      <td>0</td>\n",
              "      <td>0</td>\n",
              "      <td>0</td>\n",
              "      <td>1</td>\n",
              "      <td>0</td>\n",
              "      <td>0</td>\n",
              "      <td>0</td>\n",
              "      <td>0</td>\n",
              "      <td>0</td>\n",
              "      <td>0</td>\n",
              "      <td>0</td>\n",
              "      <td>0</td>\n",
              "      <td>0</td>\n",
              "      <td>0</td>\n",
              "      <td>0</td>\n",
              "      <td>0</td>\n",
              "      <td>0</td>\n",
              "      <td>0</td>\n",
              "      <td>0</td>\n",
              "      <td>0</td>\n",
              "      <td>0</td>\n",
              "      <td>0</td>\n",
              "      <td>0</td>\n",
              "      <td>0</td>\n",
              "      <td>0</td>\n",
              "      <td>0</td>\n",
              "      <td>0</td>\n",
              "      <td>0</td>\n",
              "      <td>0</td>\n",
              "      <td>0</td>\n",
              "      <td>0</td>\n",
              "      <td>0</td>\n",
              "      <td>0</td>\n",
              "      <td>0</td>\n",
              "      <td>0</td>\n",
              "      <td>0</td>\n",
              "      <td>0</td>\n",
              "      <td>0</td>\n",
              "      <td>0</td>\n",
              "    </tr>\n",
              "    <tr>\n",
              "      <th>3</th>\n",
              "      <td>U1004</td>\n",
              "      <td>0</td>\n",
              "      <td>0</td>\n",
              "      <td>0</td>\n",
              "      <td>0</td>\n",
              "      <td>0</td>\n",
              "      <td>0</td>\n",
              "      <td>0</td>\n",
              "      <td>1</td>\n",
              "      <td>1</td>\n",
              "      <td>0</td>\n",
              "      <td>0</td>\n",
              "      <td>0</td>\n",
              "      <td>0</td>\n",
              "      <td>0</td>\n",
              "      <td>1</td>\n",
              "      <td>0</td>\n",
              "      <td>0</td>\n",
              "      <td>0</td>\n",
              "      <td>1</td>\n",
              "      <td>1</td>\n",
              "      <td>0</td>\n",
              "      <td>0</td>\n",
              "      <td>0</td>\n",
              "      <td>0</td>\n",
              "      <td>0</td>\n",
              "      <td>0</td>\n",
              "      <td>0</td>\n",
              "      <td>1</td>\n",
              "      <td>1</td>\n",
              "      <td>0</td>\n",
              "      <td>0</td>\n",
              "      <td>0</td>\n",
              "      <td>0</td>\n",
              "      <td>0</td>\n",
              "      <td>0</td>\n",
              "      <td>0</td>\n",
              "      <td>0</td>\n",
              "      <td>0</td>\n",
              "      <td>0</td>\n",
              "      <td>...</td>\n",
              "      <td>0</td>\n",
              "      <td>0</td>\n",
              "      <td>0</td>\n",
              "      <td>0</td>\n",
              "      <td>1</td>\n",
              "      <td>0</td>\n",
              "      <td>0</td>\n",
              "      <td>0</td>\n",
              "      <td>0</td>\n",
              "      <td>0</td>\n",
              "      <td>0</td>\n",
              "      <td>0</td>\n",
              "      <td>0</td>\n",
              "      <td>0</td>\n",
              "      <td>0</td>\n",
              "      <td>0</td>\n",
              "      <td>0</td>\n",
              "      <td>0</td>\n",
              "      <td>0</td>\n",
              "      <td>0</td>\n",
              "      <td>0</td>\n",
              "      <td>0</td>\n",
              "      <td>0</td>\n",
              "      <td>0</td>\n",
              "      <td>0</td>\n",
              "      <td>0</td>\n",
              "      <td>0</td>\n",
              "      <td>0</td>\n",
              "      <td>0</td>\n",
              "      <td>0</td>\n",
              "      <td>0</td>\n",
              "      <td>0</td>\n",
              "      <td>0</td>\n",
              "      <td>0</td>\n",
              "      <td>0</td>\n",
              "      <td>0</td>\n",
              "      <td>0</td>\n",
              "      <td>0</td>\n",
              "      <td>0</td>\n",
              "      <td>0</td>\n",
              "    </tr>\n",
              "    <tr>\n",
              "      <th>4</th>\n",
              "      <td>U1005</td>\n",
              "      <td>0</td>\n",
              "      <td>0</td>\n",
              "      <td>1</td>\n",
              "      <td>0</td>\n",
              "      <td>0</td>\n",
              "      <td>0</td>\n",
              "      <td>0</td>\n",
              "      <td>0</td>\n",
              "      <td>0</td>\n",
              "      <td>0</td>\n",
              "      <td>0</td>\n",
              "      <td>0</td>\n",
              "      <td>0</td>\n",
              "      <td>0</td>\n",
              "      <td>0</td>\n",
              "      <td>0</td>\n",
              "      <td>0</td>\n",
              "      <td>0</td>\n",
              "      <td>0</td>\n",
              "      <td>0</td>\n",
              "      <td>0</td>\n",
              "      <td>0</td>\n",
              "      <td>0</td>\n",
              "      <td>0</td>\n",
              "      <td>0</td>\n",
              "      <td>0</td>\n",
              "      <td>0</td>\n",
              "      <td>0</td>\n",
              "      <td>0</td>\n",
              "      <td>0</td>\n",
              "      <td>0</td>\n",
              "      <td>0</td>\n",
              "      <td>0</td>\n",
              "      <td>0</td>\n",
              "      <td>0</td>\n",
              "      <td>0</td>\n",
              "      <td>0</td>\n",
              "      <td>0</td>\n",
              "      <td>0</td>\n",
              "      <td>...</td>\n",
              "      <td>0</td>\n",
              "      <td>0</td>\n",
              "      <td>0</td>\n",
              "      <td>0</td>\n",
              "      <td>0</td>\n",
              "      <td>0</td>\n",
              "      <td>0</td>\n",
              "      <td>0</td>\n",
              "      <td>0</td>\n",
              "      <td>0</td>\n",
              "      <td>0</td>\n",
              "      <td>0</td>\n",
              "      <td>0</td>\n",
              "      <td>0</td>\n",
              "      <td>0</td>\n",
              "      <td>0</td>\n",
              "      <td>0</td>\n",
              "      <td>0</td>\n",
              "      <td>0</td>\n",
              "      <td>0</td>\n",
              "      <td>0</td>\n",
              "      <td>0</td>\n",
              "      <td>0</td>\n",
              "      <td>0</td>\n",
              "      <td>0</td>\n",
              "      <td>0</td>\n",
              "      <td>0</td>\n",
              "      <td>0</td>\n",
              "      <td>0</td>\n",
              "      <td>0</td>\n",
              "      <td>0</td>\n",
              "      <td>0</td>\n",
              "      <td>0</td>\n",
              "      <td>0</td>\n",
              "      <td>0</td>\n",
              "      <td>0</td>\n",
              "      <td>0</td>\n",
              "      <td>0</td>\n",
              "      <td>0</td>\n",
              "      <td>0</td>\n",
              "    </tr>\n",
              "  </tbody>\n",
              "</table>\n",
              "<p>5 rows × 104 columns</p>\n",
              "</div>"
            ],
            "text/plain": [
              "  userID  Rcuisine_Afghan  ...  Rcuisine_Vegetarian  Rcuisine_Vietnamese\n",
              "0  U1001                0  ...                    0                    0\n",
              "1  U1002                0  ...                    0                    0\n",
              "2  U1003                0  ...                    0                    0\n",
              "3  U1004                0  ...                    0                    0\n",
              "4  U1005                0  ...                    0                    0\n",
              "\n",
              "[5 rows x 104 columns]"
            ]
          },
          "metadata": {
            "tags": []
          },
          "execution_count": 20
        }
      ]
    },
    {
      "cell_type": "code",
      "metadata": {
        "id": "a_znANO4d2xE",
        "colab_type": "code",
        "outputId": "673ad957-57bf-4eef-8c96-9f8c6eb86289",
        "colab": {
          "base_uri": "https://localhost:8080/",
          "height": 278
        }
      },
      "source": [
        "F7.head()"
      ],
      "execution_count": 0,
      "outputs": [
        {
          "output_type": "execute_result",
          "data": {
            "text/html": [
              "<div>\n",
              "<style scoped>\n",
              "    .dataframe tbody tr th:only-of-type {\n",
              "        vertical-align: middle;\n",
              "    }\n",
              "\n",
              "    .dataframe tbody tr th {\n",
              "        vertical-align: top;\n",
              "    }\n",
              "\n",
              "    .dataframe thead th {\n",
              "        text-align: right;\n",
              "    }\n",
              "</style>\n",
              "<table border=\"1\" class=\"dataframe\">\n",
              "  <thead>\n",
              "    <tr style=\"text-align: right;\">\n",
              "      <th></th>\n",
              "      <th>userID</th>\n",
              "      <th>latitude</th>\n",
              "      <th>longitude</th>\n",
              "      <th>smoker</th>\n",
              "      <th>drink_level</th>\n",
              "      <th>dress_preference</th>\n",
              "      <th>ambience</th>\n",
              "      <th>transport</th>\n",
              "      <th>marital_status</th>\n",
              "      <th>hijos</th>\n",
              "      <th>birth_year</th>\n",
              "      <th>interest</th>\n",
              "      <th>personality</th>\n",
              "      <th>religion</th>\n",
              "      <th>activity</th>\n",
              "      <th>color</th>\n",
              "      <th>weight</th>\n",
              "      <th>budget</th>\n",
              "      <th>height</th>\n",
              "    </tr>\n",
              "  </thead>\n",
              "  <tbody>\n",
              "    <tr>\n",
              "      <th>0</th>\n",
              "      <td>U1001</td>\n",
              "      <td>22.139997</td>\n",
              "      <td>-100.978803</td>\n",
              "      <td>false</td>\n",
              "      <td>abstemious</td>\n",
              "      <td>informal</td>\n",
              "      <td>family</td>\n",
              "      <td>on foot</td>\n",
              "      <td>single</td>\n",
              "      <td>independent</td>\n",
              "      <td>1989</td>\n",
              "      <td>variety</td>\n",
              "      <td>thrifty-protector</td>\n",
              "      <td>none</td>\n",
              "      <td>student</td>\n",
              "      <td>black</td>\n",
              "      <td>69</td>\n",
              "      <td>medium</td>\n",
              "      <td>1.77</td>\n",
              "    </tr>\n",
              "    <tr>\n",
              "      <th>1</th>\n",
              "      <td>U1002</td>\n",
              "      <td>22.150087</td>\n",
              "      <td>-100.983325</td>\n",
              "      <td>false</td>\n",
              "      <td>abstemious</td>\n",
              "      <td>informal</td>\n",
              "      <td>family</td>\n",
              "      <td>public</td>\n",
              "      <td>single</td>\n",
              "      <td>independent</td>\n",
              "      <td>1990</td>\n",
              "      <td>technology</td>\n",
              "      <td>hunter-ostentatious</td>\n",
              "      <td>Catholic</td>\n",
              "      <td>student</td>\n",
              "      <td>red</td>\n",
              "      <td>40</td>\n",
              "      <td>low</td>\n",
              "      <td>1.87</td>\n",
              "    </tr>\n",
              "    <tr>\n",
              "      <th>2</th>\n",
              "      <td>U1003</td>\n",
              "      <td>22.119847</td>\n",
              "      <td>-100.946527</td>\n",
              "      <td>false</td>\n",
              "      <td>social drinker</td>\n",
              "      <td>formal</td>\n",
              "      <td>family</td>\n",
              "      <td>public</td>\n",
              "      <td>single</td>\n",
              "      <td>independent</td>\n",
              "      <td>1989</td>\n",
              "      <td>none</td>\n",
              "      <td>hard-worker</td>\n",
              "      <td>Catholic</td>\n",
              "      <td>student</td>\n",
              "      <td>blue</td>\n",
              "      <td>60</td>\n",
              "      <td>low</td>\n",
              "      <td>1.69</td>\n",
              "    </tr>\n",
              "    <tr>\n",
              "      <th>3</th>\n",
              "      <td>U1004</td>\n",
              "      <td>18.867000</td>\n",
              "      <td>-99.183000</td>\n",
              "      <td>false</td>\n",
              "      <td>abstemious</td>\n",
              "      <td>informal</td>\n",
              "      <td>family</td>\n",
              "      <td>public</td>\n",
              "      <td>single</td>\n",
              "      <td>independent</td>\n",
              "      <td>1940</td>\n",
              "      <td>variety</td>\n",
              "      <td>hard-worker</td>\n",
              "      <td>none</td>\n",
              "      <td>professional</td>\n",
              "      <td>green</td>\n",
              "      <td>44</td>\n",
              "      <td>medium</td>\n",
              "      <td>1.53</td>\n",
              "    </tr>\n",
              "    <tr>\n",
              "      <th>4</th>\n",
              "      <td>U1005</td>\n",
              "      <td>22.183477</td>\n",
              "      <td>-100.959891</td>\n",
              "      <td>false</td>\n",
              "      <td>abstemious</td>\n",
              "      <td>no preference</td>\n",
              "      <td>family</td>\n",
              "      <td>public</td>\n",
              "      <td>single</td>\n",
              "      <td>independent</td>\n",
              "      <td>1992</td>\n",
              "      <td>none</td>\n",
              "      <td>thrifty-protector</td>\n",
              "      <td>Catholic</td>\n",
              "      <td>student</td>\n",
              "      <td>black</td>\n",
              "      <td>65</td>\n",
              "      <td>medium</td>\n",
              "      <td>1.69</td>\n",
              "    </tr>\n",
              "  </tbody>\n",
              "</table>\n",
              "</div>"
            ],
            "text/plain": [
              "  userID   latitude   longitude smoker  ...  color weight  budget height\n",
              "0  U1001  22.139997 -100.978803  false  ...  black     69  medium   1.77\n",
              "1  U1002  22.150087 -100.983325  false  ...    red     40     low   1.87\n",
              "2  U1003  22.119847 -100.946527  false  ...   blue     60     low   1.69\n",
              "3  U1004  18.867000  -99.183000  false  ...  green     44  medium   1.53\n",
              "4  U1005  22.183477 -100.959891  false  ...  black     65  medium   1.69\n",
              "\n",
              "[5 rows x 19 columns]"
            ]
          },
          "metadata": {
            "tags": []
          },
          "execution_count": 21
        }
      ]
    },
    {
      "cell_type": "code",
      "metadata": {
        "id": "EY727uuGd-WN",
        "colab_type": "code",
        "outputId": "2ffec4ec-9749-43ef-ac7e-b394467a4556",
        "colab": {
          "base_uri": "https://localhost:8080/",
          "height": 467
        }
      },
      "source": [
        "F7.info()"
      ],
      "execution_count": 0,
      "outputs": [
        {
          "output_type": "stream",
          "text": [
            "<class 'pandas.core.frame.DataFrame'>\n",
            "RangeIndex: 138 entries, 0 to 137\n",
            "Data columns (total 19 columns):\n",
            "userID              138 non-null object\n",
            "latitude            138 non-null float64\n",
            "longitude           138 non-null float64\n",
            "smoker              138 non-null object\n",
            "drink_level         138 non-null object\n",
            "dress_preference    138 non-null object\n",
            "ambience            138 non-null object\n",
            "transport           138 non-null object\n",
            "marital_status      138 non-null object\n",
            "hijos               138 non-null object\n",
            "birth_year          138 non-null int64\n",
            "interest            138 non-null object\n",
            "personality         138 non-null object\n",
            "religion            138 non-null object\n",
            "activity            138 non-null object\n",
            "color               138 non-null object\n",
            "weight              138 non-null int64\n",
            "budget              138 non-null object\n",
            "height              138 non-null float64\n",
            "dtypes: float64(3), int64(2), object(14)\n",
            "memory usage: 20.6+ KB\n"
          ],
          "name": "stdout"
        }
      ]
    },
    {
      "cell_type": "code",
      "metadata": {
        "id": "DRRK76CveAzV",
        "colab_type": "code",
        "colab": {}
      },
      "source": [
        "# as data contains unknown value, we are replacinf with Nan.\n",
        "F7rep=F7.replace('?', np.nan)"
      ],
      "execution_count": 0,
      "outputs": []
    },
    {
      "cell_type": "code",
      "metadata": {
        "id": "TDm3K-sseGo5",
        "colab_type": "code",
        "outputId": "ce1052c6-3b88-409c-cd0c-9b575016d781",
        "colab": {
          "base_uri": "https://localhost:8080/",
          "height": 645
        }
      },
      "source": [
        "#now we are finding missing value cnt n perct for all variables.\n",
        "mss=F7rep.isnull().sum()\n",
        "columns = F7rep.columns\n",
        "percent_missing = F7rep.isnull().sum() * 100 / len(F7rep)\n",
        "missing_value_F7rep = pd.DataFrame({'missing_cnt':mss,'percent_missing': percent_missing})\n",
        "missing_value_F7rep"
      ],
      "execution_count": 0,
      "outputs": [
        {
          "output_type": "execute_result",
          "data": {
            "text/html": [
              "<div>\n",
              "<style scoped>\n",
              "    .dataframe tbody tr th:only-of-type {\n",
              "        vertical-align: middle;\n",
              "    }\n",
              "\n",
              "    .dataframe tbody tr th {\n",
              "        vertical-align: top;\n",
              "    }\n",
              "\n",
              "    .dataframe thead th {\n",
              "        text-align: right;\n",
              "    }\n",
              "</style>\n",
              "<table border=\"1\" class=\"dataframe\">\n",
              "  <thead>\n",
              "    <tr style=\"text-align: right;\">\n",
              "      <th></th>\n",
              "      <th>missing_cnt</th>\n",
              "      <th>percent_missing</th>\n",
              "    </tr>\n",
              "  </thead>\n",
              "  <tbody>\n",
              "    <tr>\n",
              "      <th>userID</th>\n",
              "      <td>0</td>\n",
              "      <td>0.000000</td>\n",
              "    </tr>\n",
              "    <tr>\n",
              "      <th>latitude</th>\n",
              "      <td>0</td>\n",
              "      <td>0.000000</td>\n",
              "    </tr>\n",
              "    <tr>\n",
              "      <th>longitude</th>\n",
              "      <td>0</td>\n",
              "      <td>0.000000</td>\n",
              "    </tr>\n",
              "    <tr>\n",
              "      <th>smoker</th>\n",
              "      <td>3</td>\n",
              "      <td>2.173913</td>\n",
              "    </tr>\n",
              "    <tr>\n",
              "      <th>drink_level</th>\n",
              "      <td>0</td>\n",
              "      <td>0.000000</td>\n",
              "    </tr>\n",
              "    <tr>\n",
              "      <th>dress_preference</th>\n",
              "      <td>5</td>\n",
              "      <td>3.623188</td>\n",
              "    </tr>\n",
              "    <tr>\n",
              "      <th>ambience</th>\n",
              "      <td>6</td>\n",
              "      <td>4.347826</td>\n",
              "    </tr>\n",
              "    <tr>\n",
              "      <th>transport</th>\n",
              "      <td>7</td>\n",
              "      <td>5.072464</td>\n",
              "    </tr>\n",
              "    <tr>\n",
              "      <th>marital_status</th>\n",
              "      <td>4</td>\n",
              "      <td>2.898551</td>\n",
              "    </tr>\n",
              "    <tr>\n",
              "      <th>hijos</th>\n",
              "      <td>11</td>\n",
              "      <td>7.971014</td>\n",
              "    </tr>\n",
              "    <tr>\n",
              "      <th>birth_year</th>\n",
              "      <td>0</td>\n",
              "      <td>0.000000</td>\n",
              "    </tr>\n",
              "    <tr>\n",
              "      <th>interest</th>\n",
              "      <td>0</td>\n",
              "      <td>0.000000</td>\n",
              "    </tr>\n",
              "    <tr>\n",
              "      <th>personality</th>\n",
              "      <td>0</td>\n",
              "      <td>0.000000</td>\n",
              "    </tr>\n",
              "    <tr>\n",
              "      <th>religion</th>\n",
              "      <td>0</td>\n",
              "      <td>0.000000</td>\n",
              "    </tr>\n",
              "    <tr>\n",
              "      <th>activity</th>\n",
              "      <td>7</td>\n",
              "      <td>5.072464</td>\n",
              "    </tr>\n",
              "    <tr>\n",
              "      <th>color</th>\n",
              "      <td>0</td>\n",
              "      <td>0.000000</td>\n",
              "    </tr>\n",
              "    <tr>\n",
              "      <th>weight</th>\n",
              "      <td>0</td>\n",
              "      <td>0.000000</td>\n",
              "    </tr>\n",
              "    <tr>\n",
              "      <th>budget</th>\n",
              "      <td>7</td>\n",
              "      <td>5.072464</td>\n",
              "    </tr>\n",
              "    <tr>\n",
              "      <th>height</th>\n",
              "      <td>0</td>\n",
              "      <td>0.000000</td>\n",
              "    </tr>\n",
              "  </tbody>\n",
              "</table>\n",
              "</div>"
            ],
            "text/plain": [
              "                  missing_cnt  percent_missing\n",
              "userID                      0         0.000000\n",
              "latitude                    0         0.000000\n",
              "longitude                   0         0.000000\n",
              "smoker                      3         2.173913\n",
              "drink_level                 0         0.000000\n",
              "dress_preference            5         3.623188\n",
              "ambience                    6         4.347826\n",
              "transport                   7         5.072464\n",
              "marital_status              4         2.898551\n",
              "hijos                      11         7.971014\n",
              "birth_year                  0         0.000000\n",
              "interest                    0         0.000000\n",
              "personality                 0         0.000000\n",
              "religion                    0         0.000000\n",
              "activity                    7         5.072464\n",
              "color                       0         0.000000\n",
              "weight                      0         0.000000\n",
              "budget                      7         5.072464\n",
              "height                      0         0.000000"
            ]
          },
          "metadata": {
            "tags": []
          },
          "execution_count": 25
        }
      ]
    },
    {
      "cell_type": "code",
      "metadata": {
        "id": "gvLk1HKieUCi",
        "colab_type": "code",
        "colab": {}
      },
      "source": [
        "#since the missing value pernt is very low in each variables, we are replacing with mode of that individual column.\n",
        "for column in F7rep.columns:\n",
        "    F7rep[column].fillna(F7rep[column].mode()[0], inplace=True)"
      ],
      "execution_count": 0,
      "outputs": []
    },
    {
      "cell_type": "code",
      "metadata": {
        "id": "J1U5UUqjeX_8",
        "colab_type": "code",
        "outputId": "99def35c-5790-48ee-c312-b365bfd3b423",
        "colab": {
          "base_uri": "https://localhost:8080/",
          "height": 303
        }
      },
      "source": [
        "#plotting for marital status vs smoker n drinklevel.\n",
        "F7rep.groupby('marital_status')['smoker','drink_level'].nunique().plot.bar(rot=0)"
      ],
      "execution_count": 0,
      "outputs": [
        {
          "output_type": "execute_result",
          "data": {
            "text/plain": [
              "<matplotlib.axes._subplots.AxesSubplot at 0x7f987ceed6d8>"
            ]
          },
          "metadata": {
            "tags": []
          },
          "execution_count": 27
        },
        {
          "output_type": "display_data",
          "data": {
            "image/png": "[encoded data removed]",
            "text/plain": [
              "<Figure size 432x288 with 1 Axes>"
            ]
          },
          "metadata": {
            "tags": []
          }
        }
      ]
    },
    {
      "cell_type": "code",
      "metadata": {
        "id": "k0QhTZt6ed_l",
        "colab_type": "code",
        "outputId": "b8df3c04-53d3-491e-b7ea-883107f7278b",
        "colab": {
          "base_uri": "https://localhost:8080/",
          "height": 374
        }
      },
      "source": [
        "#plot to visualize user's personal info based on birthyear.\n",
        "F7repplt=F7rep.groupby('birth_year')['interest','personality','religion','activity'].nunique().plot.bar(figsize=(15, 5))"
      ],
      "execution_count": 0,
      "outputs": [
        {
          "output_type": "display_data",
          "data": {
            "image/png": "[encoded data removed]",
            "text/plain": [
              "<Figure size 1080x360 with 1 Axes>"
            ]
          },
          "metadata": {
            "tags": []
          }
        }
      ]
    },
    {
      "cell_type": "code",
      "metadata": {
        "id": "axd6grdOe268",
        "colab_type": "code",
        "outputId": "c5026616-0d38-4f93-831c-84784ce6600b",
        "colab": {
          "base_uri": "https://localhost:8080/",
          "height": 226
        }
      },
      "source": [
        "#now performing label encoding to convert char to factors.\n",
        "F7char=F7rep.select_dtypes(include=['object'])\n",
        "\n",
        "encoder = LabelEncoder()\n",
        "F7charLE = F7char.apply(encoder.fit_transform, axis=0)\n",
        "F7charLE=F7charLE.drop(['userID'],axis=1)\n",
        "F7charLE[['userID','latitude','longitude','birth_year','weight','height']]=F7rep[['userID','latitude','longitude','birth_year','weight','height']]\n",
        "F7charLE.head()"
      ],
      "execution_count": 0,
      "outputs": [
        {
          "output_type": "execute_result",
          "data": {
            "text/html": [
              "<div>\n",
              "<style scoped>\n",
              "    .dataframe tbody tr th:only-of-type {\n",
              "        vertical-align: middle;\n",
              "    }\n",
              "\n",
              "    .dataframe tbody tr th {\n",
              "        vertical-align: top;\n",
              "    }\n",
              "\n",
              "    .dataframe thead th {\n",
              "        text-align: right;\n",
              "    }\n",
              "</style>\n",
              "<table border=\"1\" class=\"dataframe\">\n",
              "  <thead>\n",
              "    <tr style=\"text-align: right;\">\n",
              "      <th></th>\n",
              "      <th>smoker</th>\n",
              "      <th>drink_level</th>\n",
              "      <th>dress_preference</th>\n",
              "      <th>ambience</th>\n",
              "      <th>transport</th>\n",
              "      <th>marital_status</th>\n",
              "      <th>hijos</th>\n",
              "      <th>interest</th>\n",
              "      <th>personality</th>\n",
              "      <th>religion</th>\n",
              "      <th>activity</th>\n",
              "      <th>color</th>\n",
              "      <th>budget</th>\n",
              "      <th>userID</th>\n",
              "      <th>latitude</th>\n",
              "      <th>longitude</th>\n",
              "      <th>birth_year</th>\n",
              "      <th>weight</th>\n",
              "      <th>height</th>\n",
              "    </tr>\n",
              "  </thead>\n",
              "  <tbody>\n",
              "    <tr>\n",
              "      <th>0</th>\n",
              "      <td>0</td>\n",
              "      <td>0</td>\n",
              "      <td>2</td>\n",
              "      <td>0</td>\n",
              "      <td>1</td>\n",
              "      <td>1</td>\n",
              "      <td>1</td>\n",
              "      <td>4</td>\n",
              "      <td>3</td>\n",
              "      <td>4</td>\n",
              "      <td>1</td>\n",
              "      <td>0</td>\n",
              "      <td>2</td>\n",
              "      <td>U1001</td>\n",
              "      <td>22.139997</td>\n",
              "      <td>-100.978803</td>\n",
              "      <td>1989</td>\n",
              "      <td>69</td>\n",
              "      <td>1.77</td>\n",
              "    </tr>\n",
              "    <tr>\n",
              "      <th>1</th>\n",
              "      <td>0</td>\n",
              "      <td>0</td>\n",
              "      <td>2</td>\n",
              "      <td>0</td>\n",
              "      <td>2</td>\n",
              "      <td>1</td>\n",
              "      <td>1</td>\n",
              "      <td>3</td>\n",
              "      <td>2</td>\n",
              "      <td>0</td>\n",
              "      <td>1</td>\n",
              "      <td>5</td>\n",
              "      <td>1</td>\n",
              "      <td>U1002</td>\n",
              "      <td>22.150087</td>\n",
              "      <td>-100.983325</td>\n",
              "      <td>1990</td>\n",
              "      <td>40</td>\n",
              "      <td>1.87</td>\n",
              "    </tr>\n",
              "    <tr>\n",
              "      <th>2</th>\n",
              "      <td>0</td>\n",
              "      <td>2</td>\n",
              "      <td>1</td>\n",
              "      <td>0</td>\n",
              "      <td>2</td>\n",
              "      <td>1</td>\n",
              "      <td>1</td>\n",
              "      <td>1</td>\n",
              "      <td>1</td>\n",
              "      <td>0</td>\n",
              "      <td>1</td>\n",
              "      <td>1</td>\n",
              "      <td>1</td>\n",
              "      <td>U1003</td>\n",
              "      <td>22.119847</td>\n",
              "      <td>-100.946527</td>\n",
              "      <td>1989</td>\n",
              "      <td>60</td>\n",
              "      <td>1.69</td>\n",
              "    </tr>\n",
              "    <tr>\n",
              "      <th>3</th>\n",
              "      <td>0</td>\n",
              "      <td>0</td>\n",
              "      <td>2</td>\n",
              "      <td>0</td>\n",
              "      <td>2</td>\n",
              "      <td>1</td>\n",
              "      <td>1</td>\n",
              "      <td>4</td>\n",
              "      <td>1</td>\n",
              "      <td>4</td>\n",
              "      <td>0</td>\n",
              "      <td>2</td>\n",
              "      <td>2</td>\n",
              "      <td>U1004</td>\n",
              "      <td>18.867000</td>\n",
              "      <td>-99.183000</td>\n",
              "      <td>1940</td>\n",
              "      <td>44</td>\n",
              "      <td>1.53</td>\n",
              "    </tr>\n",
              "    <tr>\n",
              "      <th>4</th>\n",
              "      <td>0</td>\n",
              "      <td>0</td>\n",
              "      <td>3</td>\n",
              "      <td>0</td>\n",
              "      <td>2</td>\n",
              "      <td>1</td>\n",
              "      <td>1</td>\n",
              "      <td>1</td>\n",
              "      <td>3</td>\n",
              "      <td>0</td>\n",
              "      <td>1</td>\n",
              "      <td>0</td>\n",
              "      <td>2</td>\n",
              "      <td>U1005</td>\n",
              "      <td>22.183477</td>\n",
              "      <td>-100.959891</td>\n",
              "      <td>1992</td>\n",
              "      <td>65</td>\n",
              "      <td>1.69</td>\n",
              "    </tr>\n",
              "  </tbody>\n",
              "</table>\n",
              "</div>"
            ],
            "text/plain": [
              "   smoker  drink_level  dress_preference  ...  birth_year  weight  height\n",
              "0       0            0                 2  ...        1989      69    1.77\n",
              "1       0            0                 2  ...        1990      40    1.87\n",
              "2       0            2                 1  ...        1989      60    1.69\n",
              "3       0            0                 2  ...        1940      44    1.53\n",
              "4       0            0                 3  ...        1992      65    1.69\n",
              "\n",
              "[5 rows x 19 columns]"
            ]
          },
          "metadata": {
            "tags": []
          },
          "execution_count": 30
        }
      ]
    },
    {
      "cell_type": "code",
      "metadata": {
        "id": "cD_uyjEHe-ic",
        "colab_type": "code",
        "outputId": "9e339efe-0b96-4e17-da0b-17b1650b2d6f",
        "colab": {
          "base_uri": "https://localhost:8080/",
          "height": 400
        }
      },
      "source": [
        "F8.head()"
      ],
      "execution_count": 0,
      "outputs": [
        {
          "output_type": "execute_result",
          "data": {
            "text/html": [
              "<div>\n",
              "<style scoped>\n",
              "    .dataframe tbody tr th:only-of-type {\n",
              "        vertical-align: middle;\n",
              "    }\n",
              "\n",
              "    .dataframe tbody tr th {\n",
              "        vertical-align: top;\n",
              "    }\n",
              "\n",
              "    .dataframe thead th {\n",
              "        text-align: right;\n",
              "    }\n",
              "</style>\n",
              "<table border=\"1\" class=\"dataframe\">\n",
              "  <thead>\n",
              "    <tr style=\"text-align: right;\">\n",
              "      <th></th>\n",
              "      <th>placeID</th>\n",
              "      <th>latitude</th>\n",
              "      <th>longitude</th>\n",
              "      <th>the_geom_meter</th>\n",
              "      <th>name</th>\n",
              "      <th>address</th>\n",
              "      <th>city</th>\n",
              "      <th>state</th>\n",
              "      <th>country</th>\n",
              "      <th>fax</th>\n",
              "      <th>zip</th>\n",
              "      <th>alcohol</th>\n",
              "      <th>smoking_area</th>\n",
              "      <th>dress_code</th>\n",
              "      <th>accessibility</th>\n",
              "      <th>price</th>\n",
              "      <th>url</th>\n",
              "      <th>Rambience</th>\n",
              "      <th>franchise</th>\n",
              "      <th>area</th>\n",
              "      <th>other_services</th>\n",
              "    </tr>\n",
              "  </thead>\n",
              "  <tbody>\n",
              "    <tr>\n",
              "      <th>0</th>\n",
              "      <td>134999</td>\n",
              "      <td>18.915421</td>\n",
              "      <td>-99.184871</td>\n",
              "      <td>0101000020957F000088568DE356715AC138C0A525FC46...</td>\n",
              "      <td>Kiku Cuernavaca</td>\n",
              "      <td>Revolucion</td>\n",
              "      <td>Cuernavaca</td>\n",
              "      <td>Morelos</td>\n",
              "      <td>Mexico</td>\n",
              "      <td>?</td>\n",
              "      <td>?</td>\n",
              "      <td>No_Alcohol_Served</td>\n",
              "      <td>none</td>\n",
              "      <td>informal</td>\n",
              "      <td>no_accessibility</td>\n",
              "      <td>medium</td>\n",
              "      <td>kikucuernavaca.com.mx</td>\n",
              "      <td>familiar</td>\n",
              "      <td>f</td>\n",
              "      <td>closed</td>\n",
              "      <td>none</td>\n",
              "    </tr>\n",
              "    <tr>\n",
              "      <th>1</th>\n",
              "      <td>132825</td>\n",
              "      <td>22.147392</td>\n",
              "      <td>-100.983092</td>\n",
              "      <td>0101000020957F00001AD016568C4858C1243261274BA5...</td>\n",
              "      <td>puesto de tacos</td>\n",
              "      <td>esquina santos degollado y leon guzman</td>\n",
              "      <td>s.l.p.</td>\n",
              "      <td>s.l.p.</td>\n",
              "      <td>mexico</td>\n",
              "      <td>?</td>\n",
              "      <td>78280</td>\n",
              "      <td>No_Alcohol_Served</td>\n",
              "      <td>none</td>\n",
              "      <td>informal</td>\n",
              "      <td>completely</td>\n",
              "      <td>low</td>\n",
              "      <td>?</td>\n",
              "      <td>familiar</td>\n",
              "      <td>f</td>\n",
              "      <td>open</td>\n",
              "      <td>none</td>\n",
              "    </tr>\n",
              "    <tr>\n",
              "      <th>2</th>\n",
              "      <td>135106</td>\n",
              "      <td>22.149709</td>\n",
              "      <td>-100.976093</td>\n",
              "      <td>0101000020957F0000649D6F21634858C119AE9BF528A3...</td>\n",
              "      <td>El Rinc�n de San Francisco</td>\n",
              "      <td>Universidad 169</td>\n",
              "      <td>San Luis Potosi</td>\n",
              "      <td>San Luis Potosi</td>\n",
              "      <td>Mexico</td>\n",
              "      <td>?</td>\n",
              "      <td>78000</td>\n",
              "      <td>Wine-Beer</td>\n",
              "      <td>only at bar</td>\n",
              "      <td>informal</td>\n",
              "      <td>partially</td>\n",
              "      <td>medium</td>\n",
              "      <td>?</td>\n",
              "      <td>familiar</td>\n",
              "      <td>f</td>\n",
              "      <td>open</td>\n",
              "      <td>none</td>\n",
              "    </tr>\n",
              "    <tr>\n",
              "      <th>3</th>\n",
              "      <td>132667</td>\n",
              "      <td>23.752697</td>\n",
              "      <td>-99.163359</td>\n",
              "      <td>0101000020957F00005D67BCDDED8157C1222A2DC8D84D...</td>\n",
              "      <td>little pizza Emilio Portes Gil</td>\n",
              "      <td>calle emilio portes gil</td>\n",
              "      <td>victoria</td>\n",
              "      <td>tamaulipas</td>\n",
              "      <td>?</td>\n",
              "      <td>?</td>\n",
              "      <td>?</td>\n",
              "      <td>No_Alcohol_Served</td>\n",
              "      <td>none</td>\n",
              "      <td>informal</td>\n",
              "      <td>completely</td>\n",
              "      <td>low</td>\n",
              "      <td>?</td>\n",
              "      <td>familiar</td>\n",
              "      <td>t</td>\n",
              "      <td>closed</td>\n",
              "      <td>none</td>\n",
              "    </tr>\n",
              "    <tr>\n",
              "      <th>4</th>\n",
              "      <td>132613</td>\n",
              "      <td>23.752903</td>\n",
              "      <td>-99.165076</td>\n",
              "      <td>0101000020957F00008EBA2D06DC8157C194E03B7B504E...</td>\n",
              "      <td>carnitas_mata</td>\n",
              "      <td>lic. Emilio portes gil</td>\n",
              "      <td>victoria</td>\n",
              "      <td>Tamaulipas</td>\n",
              "      <td>Mexico</td>\n",
              "      <td>?</td>\n",
              "      <td>?</td>\n",
              "      <td>No_Alcohol_Served</td>\n",
              "      <td>permitted</td>\n",
              "      <td>informal</td>\n",
              "      <td>completely</td>\n",
              "      <td>medium</td>\n",
              "      <td>?</td>\n",
              "      <td>familiar</td>\n",
              "      <td>t</td>\n",
              "      <td>closed</td>\n",
              "      <td>none</td>\n",
              "    </tr>\n",
              "  </tbody>\n",
              "</table>\n",
              "</div>"
            ],
            "text/plain": [
              "   placeID   latitude   longitude  ... franchise    area other_services\n",
              "0   134999  18.915421  -99.184871  ...         f  closed           none\n",
              "1   132825  22.147392 -100.983092  ...         f    open           none\n",
              "2   135106  22.149709 -100.976093  ...         f    open           none\n",
              "3   132667  23.752697  -99.163359  ...         t  closed           none\n",
              "4   132613  23.752903  -99.165076  ...         t  closed           none\n",
              "\n",
              "[5 rows x 21 columns]"
            ]
          },
          "metadata": {
            "tags": []
          },
          "execution_count": 31
        }
      ]
    },
    {
      "cell_type": "code",
      "metadata": {
        "id": "0gn_GmiIfDuw",
        "colab_type": "code",
        "outputId": "ec6f71d5-5764-4a00-d174-e66f6acbe876",
        "colab": {
          "base_uri": "https://localhost:8080/",
          "height": 504
        }
      },
      "source": [
        "F8.info()"
      ],
      "execution_count": 0,
      "outputs": [
        {
          "output_type": "stream",
          "text": [
            "<class 'pandas.core.frame.DataFrame'>\n",
            "RangeIndex: 130 entries, 0 to 129\n",
            "Data columns (total 21 columns):\n",
            "placeID           130 non-null int64\n",
            "latitude          130 non-null float64\n",
            "longitude         130 non-null float64\n",
            "the_geom_meter    130 non-null object\n",
            "name              130 non-null object\n",
            "address           130 non-null object\n",
            "city              130 non-null object\n",
            "state             130 non-null object\n",
            "country           130 non-null object\n",
            "fax               130 non-null object\n",
            "zip               130 non-null object\n",
            "alcohol           130 non-null object\n",
            "smoking_area      130 non-null object\n",
            "dress_code        130 non-null object\n",
            "accessibility     130 non-null object\n",
            "price             130 non-null object\n",
            "url               130 non-null object\n",
            "Rambience         130 non-null object\n",
            "franchise         130 non-null object\n",
            "area              130 non-null object\n",
            "other_services    130 non-null object\n",
            "dtypes: float64(2), int64(1), object(18)\n",
            "memory usage: 21.4+ KB\n"
          ],
          "name": "stdout"
        }
      ]
    },
    {
      "cell_type": "code",
      "metadata": {
        "id": "FpNBFA5pfLb0",
        "colab_type": "code",
        "colab": {}
      },
      "source": [
        "#replacing unknown value with Nan.\n",
        "F8rep=F8.replace('?', np.nan)"
      ],
      "execution_count": 0,
      "outputs": []
    },
    {
      "cell_type": "code",
      "metadata": {
        "id": "2Q9UzpHefQA_",
        "colab_type": "code",
        "outputId": "f21308bf-350e-41ef-9856-1fda1f226fc4",
        "colab": {
          "base_uri": "https://localhost:8080/",
          "height": 708
        }
      },
      "source": [
        "#now we are finding missing value cnt n perct for all variables.\n",
        "mss=F8rep.isnull().sum()\n",
        "columns = F8rep.columns\n",
        "percent_missing = F8rep.isnull().sum() * 100 / len(F8rep)\n",
        "missing_value_F8rep = pd.DataFrame({'missing_cnt':mss,\n",
        "                                 'percent_missing': percent_missing})\n",
        "missing_value_F8rep"
      ],
      "execution_count": 0,
      "outputs": [
        {
          "output_type": "execute_result",
          "data": {
            "text/html": [
              "<div>\n",
              "<style scoped>\n",
              "    .dataframe tbody tr th:only-of-type {\n",
              "        vertical-align: middle;\n",
              "    }\n",
              "\n",
              "    .dataframe tbody tr th {\n",
              "        vertical-align: top;\n",
              "    }\n",
              "\n",
              "    .dataframe thead th {\n",
              "        text-align: right;\n",
              "    }\n",
              "</style>\n",
              "<table border=\"1\" class=\"dataframe\">\n",
              "  <thead>\n",
              "    <tr style=\"text-align: right;\">\n",
              "      <th></th>\n",
              "      <th>missing_cnt</th>\n",
              "      <th>percent_missing</th>\n",
              "    </tr>\n",
              "  </thead>\n",
              "  <tbody>\n",
              "    <tr>\n",
              "      <th>placeID</th>\n",
              "      <td>0</td>\n",
              "      <td>0.000000</td>\n",
              "    </tr>\n",
              "    <tr>\n",
              "      <th>latitude</th>\n",
              "      <td>0</td>\n",
              "      <td>0.000000</td>\n",
              "    </tr>\n",
              "    <tr>\n",
              "      <th>longitude</th>\n",
              "      <td>0</td>\n",
              "      <td>0.000000</td>\n",
              "    </tr>\n",
              "    <tr>\n",
              "      <th>the_geom_meter</th>\n",
              "      <td>0</td>\n",
              "      <td>0.000000</td>\n",
              "    </tr>\n",
              "    <tr>\n",
              "      <th>name</th>\n",
              "      <td>0</td>\n",
              "      <td>0.000000</td>\n",
              "    </tr>\n",
              "    <tr>\n",
              "      <th>address</th>\n",
              "      <td>27</td>\n",
              "      <td>20.769231</td>\n",
              "    </tr>\n",
              "    <tr>\n",
              "      <th>city</th>\n",
              "      <td>18</td>\n",
              "      <td>13.846154</td>\n",
              "    </tr>\n",
              "    <tr>\n",
              "      <th>state</th>\n",
              "      <td>18</td>\n",
              "      <td>13.846154</td>\n",
              "    </tr>\n",
              "    <tr>\n",
              "      <th>country</th>\n",
              "      <td>28</td>\n",
              "      <td>21.538462</td>\n",
              "    </tr>\n",
              "    <tr>\n",
              "      <th>fax</th>\n",
              "      <td>130</td>\n",
              "      <td>100.000000</td>\n",
              "    </tr>\n",
              "    <tr>\n",
              "      <th>zip</th>\n",
              "      <td>74</td>\n",
              "      <td>56.923077</td>\n",
              "    </tr>\n",
              "    <tr>\n",
              "      <th>alcohol</th>\n",
              "      <td>0</td>\n",
              "      <td>0.000000</td>\n",
              "    </tr>\n",
              "    <tr>\n",
              "      <th>smoking_area</th>\n",
              "      <td>0</td>\n",
              "      <td>0.000000</td>\n",
              "    </tr>\n",
              "    <tr>\n",
              "      <th>dress_code</th>\n",
              "      <td>0</td>\n",
              "      <td>0.000000</td>\n",
              "    </tr>\n",
              "    <tr>\n",
              "      <th>accessibility</th>\n",
              "      <td>0</td>\n",
              "      <td>0.000000</td>\n",
              "    </tr>\n",
              "    <tr>\n",
              "      <th>price</th>\n",
              "      <td>0</td>\n",
              "      <td>0.000000</td>\n",
              "    </tr>\n",
              "    <tr>\n",
              "      <th>url</th>\n",
              "      <td>116</td>\n",
              "      <td>89.230769</td>\n",
              "    </tr>\n",
              "    <tr>\n",
              "      <th>Rambience</th>\n",
              "      <td>0</td>\n",
              "      <td>0.000000</td>\n",
              "    </tr>\n",
              "    <tr>\n",
              "      <th>franchise</th>\n",
              "      <td>0</td>\n",
              "      <td>0.000000</td>\n",
              "    </tr>\n",
              "    <tr>\n",
              "      <th>area</th>\n",
              "      <td>0</td>\n",
              "      <td>0.000000</td>\n",
              "    </tr>\n",
              "    <tr>\n",
              "      <th>other_services</th>\n",
              "      <td>0</td>\n",
              "      <td>0.000000</td>\n",
              "    </tr>\n",
              "  </tbody>\n",
              "</table>\n",
              "</div>"
            ],
            "text/plain": [
              "                missing_cnt  percent_missing\n",
              "placeID                   0         0.000000\n",
              "latitude                  0         0.000000\n",
              "longitude                 0         0.000000\n",
              "the_geom_meter            0         0.000000\n",
              "name                      0         0.000000\n",
              "address                  27        20.769231\n",
              "city                     18        13.846154\n",
              "state                    18        13.846154\n",
              "country                  28        21.538462\n",
              "fax                     130       100.000000\n",
              "zip                      74        56.923077\n",
              "alcohol                   0         0.000000\n",
              "smoking_area              0         0.000000\n",
              "dress_code                0         0.000000\n",
              "accessibility             0         0.000000\n",
              "price                     0         0.000000\n",
              "url                     116        89.230769\n",
              "Rambience                 0         0.000000\n",
              "franchise                 0         0.000000\n",
              "area                      0         0.000000\n",
              "other_services            0         0.000000"
            ]
          },
          "metadata": {
            "tags": []
          },
          "execution_count": 35
        }
      ]
    },
    {
      "cell_type": "code",
      "metadata": {
        "id": "a-z1x-TdfWvi",
        "colab_type": "code",
        "colab": {}
      },
      "source": [
        "#dropping columns with more than 50% missing values\n",
        "F8new=F8rep.drop(['fax','zip','url'],axis=1)\n",
        "#and replacing remaining colvalues with mode\n",
        "for column in F8new.columns:\n",
        "    F8new[column].fillna(F8new[column].mode()[0], inplace=True)"
      ],
      "execution_count": 0,
      "outputs": []
    },
    {
      "cell_type": "markdown",
      "metadata": {
        "id": "D-i-wVHmj2hw",
        "colab_type": "text"
      },
      "source": [
        "### Since some variables contains dirty values, we are going to perform data cleaning on those variables."
      ]
    },
    {
      "cell_type": "code",
      "metadata": {
        "id": "cTs01jLafYFq",
        "colab_type": "code",
        "outputId": "5c90167e-9fa2-4583-da92-3592793bb196",
        "colab": {
          "base_uri": "https://localhost:8080/",
          "height": 242
        }
      },
      "source": [
        "#clean n cnt of city\n",
        "F8new.city=F8new.city.apply(lambda x: x.lower())\n",
        "F8new.city=F8new.city.apply(lambda x:''.join([i for i in x \n",
        "                            if i not in string.punctuation]))\n",
        "\n",
        "F8new.city.value_counts()"
      ],
      "execution_count": 0,
      "outputs": [
        {
          "output_type": "execute_result",
          "data": {
            "text/plain": [
              "san luis potosi     87\n",
              "cuernavaca          16\n",
              "victoria            10\n",
              "jiutepec             4\n",
              "slp                  3\n",
              "soledad              2\n",
              "ciudad victoria      2\n",
              "victoria             2\n",
              "cd victoria          2\n",
              "san luis potos       1\n",
              "san luis potosi      1\n",
              "Name: city, dtype: int64"
            ]
          },
          "metadata": {
            "tags": []
          },
          "execution_count": 37
        }
      ]
    },
    {
      "cell_type": "code",
      "metadata": {
        "id": "nyWvFiREfb2R",
        "colab_type": "code",
        "outputId": "d7fd59a4-fec8-4778-9596-bfb46907e6ae",
        "colab": {
          "base_uri": "https://localhost:8080/",
          "height": 129
        }
      },
      "source": [
        "#replacing city with unique. \n",
        "F8new['city']=F8new['city'].replace(['san luis potos','san luis potosi','slp','san luis potosi '],'san luis potosi' )\n",
        "F8new['city']=F8new['city'].replace(['victoria','cd victoria','victoria '],'ciudad victoria' )\n",
        "F8new.city.value_counts()"
      ],
      "execution_count": 0,
      "outputs": [
        {
          "output_type": "execute_result",
          "data": {
            "text/plain": [
              "san luis potosi    92\n",
              "cuernavaca         16\n",
              "ciudad victoria    16\n",
              "jiutepec            4\n",
              "soledad             2\n",
              "Name: city, dtype: int64"
            ]
          },
          "metadata": {
            "tags": []
          },
          "execution_count": 38
        }
      ]
    },
    {
      "cell_type": "code",
      "metadata": {
        "id": "GCdKGX6tfkRz",
        "colab_type": "code",
        "outputId": "82005cfa-5020-49f0-f7c1-596b359e367e",
        "colab": {
          "base_uri": "https://localhost:8080/",
          "height": 148
        }
      },
      "source": [
        "#clean n cnt of state\n",
        "F8new.state=F8new.state.apply(lambda x: x.lower())\n",
        "F8new.state=F8new.state.apply(lambda x:''.join([i for i in x \n",
        "                            if i not in string.punctuation]))\n",
        "\n",
        "F8new.state.value_counts()"
      ],
      "execution_count": 0,
      "outputs": [
        {
          "output_type": "execute_result",
          "data": {
            "text/plain": [
              "slp                73\n",
              "morelos            20\n",
              "san luis potosi    18\n",
              "tamaulipas         16\n",
              "mexico              2\n",
              "san luis potos      1\n",
              "Name: state, dtype: int64"
            ]
          },
          "metadata": {
            "tags": []
          },
          "execution_count": 39
        }
      ]
    },
    {
      "cell_type": "code",
      "metadata": {
        "id": "Dg-crAOIfqP5",
        "colab_type": "code",
        "outputId": "1a7a3f4a-fcca-46e6-a54a-6fa88fbee435",
        "colab": {
          "base_uri": "https://localhost:8080/",
          "height": 111
        }
      },
      "source": [
        "#replacing state with unique.\n",
        "F8new['state']=F8new['state'].replace(['san luis potos','san luis potosi','slp'],'san luis potosi' )\n",
        "F8new.state.value_counts()"
      ],
      "execution_count": 0,
      "outputs": [
        {
          "output_type": "execute_result",
          "data": {
            "text/plain": [
              "san luis potosi    92\n",
              "morelos            20\n",
              "tamaulipas         16\n",
              "mexico              2\n",
              "Name: state, dtype: int64"
            ]
          },
          "metadata": {
            "tags": []
          },
          "execution_count": 41
        }
      ]
    },
    {
      "cell_type": "code",
      "metadata": {
        "id": "7po36ItSftWK",
        "colab_type": "code",
        "outputId": "d9e1f7d9-3989-4995-9667-8b8239791224",
        "colab": {
          "base_uri": "https://localhost:8080/",
          "height": 54
        }
      },
      "source": [
        "#clean n cnt of country\n",
        "F8new.country=F8new.country.apply(lambda x: x.lower())\n",
        "F8new.country=F8new.country.apply(lambda x:''.join([i for i in x \n",
        "                            if i not in string.punctuation]))\n",
        "\n",
        "F8new.country.value_counts()"
      ],
      "execution_count": 0,
      "outputs": [
        {
          "output_type": "execute_result",
          "data": {
            "text/plain": [
              "mexico    130\n",
              "Name: country, dtype: int64"
            ]
          },
          "metadata": {
            "tags": []
          },
          "execution_count": 42
        }
      ]
    },
    {
      "cell_type": "code",
      "metadata": {
        "id": "0bq3xNtjf0oD",
        "colab_type": "code",
        "outputId": "3b7390a3-df36-480d-dc7c-b1dcf7afab1d",
        "colab": {
          "base_uri": "https://localhost:8080/",
          "height": 226
        }
      },
      "source": [
        "#label encoding\n",
        "F8char=F8new.select_dtypes(include=['object'])\n",
        "F8charLE = F8char.apply(encoder.fit_transform, axis=0)\n",
        "F8charLE[['placeID','latitude','longitude']]=F8new[['placeID','latitude','longitude']]\n",
        "F8charLE.head()"
      ],
      "execution_count": 0,
      "outputs": [
        {
          "output_type": "execute_result",
          "data": {
            "text/html": [
              "<div>\n",
              "<style scoped>\n",
              "    .dataframe tbody tr th:only-of-type {\n",
              "        vertical-align: middle;\n",
              "    }\n",
              "\n",
              "    .dataframe tbody tr th {\n",
              "        vertical-align: top;\n",
              "    }\n",
              "\n",
              "    .dataframe thead th {\n",
              "        text-align: right;\n",
              "    }\n",
              "</style>\n",
              "<table border=\"1\" class=\"dataframe\">\n",
              "  <thead>\n",
              "    <tr style=\"text-align: right;\">\n",
              "      <th></th>\n",
              "      <th>the_geom_meter</th>\n",
              "      <th>name</th>\n",
              "      <th>address</th>\n",
              "      <th>city</th>\n",
              "      <th>state</th>\n",
              "      <th>country</th>\n",
              "      <th>alcohol</th>\n",
              "      <th>smoking_area</th>\n",
              "      <th>dress_code</th>\n",
              "      <th>accessibility</th>\n",
              "      <th>price</th>\n",
              "      <th>Rambience</th>\n",
              "      <th>franchise</th>\n",
              "      <th>area</th>\n",
              "      <th>other_services</th>\n",
              "      <th>placeID</th>\n",
              "      <th>latitude</th>\n",
              "      <th>longitude</th>\n",
              "    </tr>\n",
              "  </thead>\n",
              "  <tbody>\n",
              "    <tr>\n",
              "      <th>0</th>\n",
              "      <td>66</td>\n",
              "      <td>29</td>\n",
              "      <td>62</td>\n",
              "      <td>1</td>\n",
              "      <td>1</td>\n",
              "      <td>0</td>\n",
              "      <td>1</td>\n",
              "      <td>0</td>\n",
              "      <td>2</td>\n",
              "      <td>1</td>\n",
              "      <td>2</td>\n",
              "      <td>0</td>\n",
              "      <td>0</td>\n",
              "      <td>0</td>\n",
              "      <td>1</td>\n",
              "      <td>134999</td>\n",
              "      <td>18.915421</td>\n",
              "      <td>-99.184871</td>\n",
              "    </tr>\n",
              "    <tr>\n",
              "      <th>1</th>\n",
              "      <td>13</td>\n",
              "      <td>119</td>\n",
              "      <td>92</td>\n",
              "      <td>3</td>\n",
              "      <td>2</td>\n",
              "      <td>0</td>\n",
              "      <td>1</td>\n",
              "      <td>0</td>\n",
              "      <td>2</td>\n",
              "      <td>0</td>\n",
              "      <td>1</td>\n",
              "      <td>0</td>\n",
              "      <td>0</td>\n",
              "      <td>1</td>\n",
              "      <td>1</td>\n",
              "      <td>132825</td>\n",
              "      <td>22.147392</td>\n",
              "      <td>-100.983092</td>\n",
              "    </tr>\n",
              "    <tr>\n",
              "      <th>2</th>\n",
              "      <td>53</td>\n",
              "      <td>18</td>\n",
              "      <td>73</td>\n",
              "      <td>3</td>\n",
              "      <td>2</td>\n",
              "      <td>0</td>\n",
              "      <td>2</td>\n",
              "      <td>2</td>\n",
              "      <td>2</td>\n",
              "      <td>2</td>\n",
              "      <td>2</td>\n",
              "      <td>0</td>\n",
              "      <td>0</td>\n",
              "      <td>1</td>\n",
              "      <td>1</td>\n",
              "      <td>135106</td>\n",
              "      <td>22.149709</td>\n",
              "      <td>-100.976093</td>\n",
              "    </tr>\n",
              "    <tr>\n",
              "      <th>3</th>\n",
              "      <td>48</td>\n",
              "      <td>114</td>\n",
              "      <td>88</td>\n",
              "      <td>0</td>\n",
              "      <td>3</td>\n",
              "      <td>0</td>\n",
              "      <td>1</td>\n",
              "      <td>0</td>\n",
              "      <td>2</td>\n",
              "      <td>0</td>\n",
              "      <td>1</td>\n",
              "      <td>0</td>\n",
              "      <td>1</td>\n",
              "      <td>0</td>\n",
              "      <td>1</td>\n",
              "      <td>132667</td>\n",
              "      <td>23.752697</td>\n",
              "      <td>-99.163359</td>\n",
              "    </tr>\n",
              "    <tr>\n",
              "      <th>4</th>\n",
              "      <td>69</td>\n",
              "      <td>101</td>\n",
              "      <td>94</td>\n",
              "      <td>0</td>\n",
              "      <td>3</td>\n",
              "      <td>0</td>\n",
              "      <td>1</td>\n",
              "      <td>3</td>\n",
              "      <td>2</td>\n",
              "      <td>0</td>\n",
              "      <td>2</td>\n",
              "      <td>0</td>\n",
              "      <td>1</td>\n",
              "      <td>0</td>\n",
              "      <td>1</td>\n",
              "      <td>132613</td>\n",
              "      <td>23.752903</td>\n",
              "      <td>-99.165076</td>\n",
              "    </tr>\n",
              "  </tbody>\n",
              "</table>\n",
              "</div>"
            ],
            "text/plain": [
              "   the_geom_meter  name  address  ...  placeID   latitude   longitude\n",
              "0              66    29       62  ...   134999  18.915421  -99.184871\n",
              "1              13   119       92  ...   132825  22.147392 -100.983092\n",
              "2              53    18       73  ...   135106  22.149709 -100.976093\n",
              "3              48   114       88  ...   132667  23.752697  -99.163359\n",
              "4              69   101       94  ...   132613  23.752903  -99.165076\n",
              "\n",
              "[5 rows x 18 columns]"
            ]
          },
          "metadata": {
            "tags": []
          },
          "execution_count": 43
        }
      ]
    },
    {
      "cell_type": "code",
      "metadata": {
        "id": "_ZrLK975f6cT",
        "colab_type": "code",
        "outputId": "050848c3-6693-4983-a701-c897b4d4873a",
        "colab": {
          "base_uri": "https://localhost:8080/",
          "height": 421
        }
      },
      "source": [
        "#plot for facilities provided by Restaurants based on city.\n",
        "F8newplt=F8new.groupby('city')['alcohol','smoking_area','accessibility','price','Rambience','other_services'].nunique().plot.bar(figsize=(15,5))"
      ],
      "execution_count": 0,
      "outputs": [
        {
          "output_type": "display_data",
          "data": {
            "image/png": "[encoded data removed]",
            "text/plain": [
              "<Figure size 1080x360 with 1 Axes>"
            ]
          },
          "metadata": {
            "tags": []
          }
        }
      ]
    },
    {
      "cell_type": "markdown",
      "metadata": {
        "id": "_pYl2j4QkXoG",
        "colab_type": "text"
      },
      "source": [
        "\n",
        "\n",
        "## Producing Map location for the Restaurants\n"
      ]
    },
    {
      "cell_type": "code",
      "metadata": {
        "id": "AZhw4tdggE_U",
        "colab_type": "code",
        "outputId": "010542e0-76be-4b3a-a688-aab0628dc70f",
        "colab": {
          "base_uri": "https://localhost:8080/",
          "height": 35
        }
      },
      "source": [
        "address = 'Mexico'\n",
        "\n",
        "geolocator = Nominatim(user_agent=\"my-application\")\n",
        "location = geolocator.geocode(address)\n",
        "latitude = location.latitude\n",
        "longitude = location.longitude\n",
        "print('The geograpical coordinate of Toronto are {}, {}.'.format(latitude, longitude))"
      ],
      "execution_count": 0,
      "outputs": [
        {
          "output_type": "stream",
          "text": [
            "The geograpical coordinate of Toronto are 19.4326009, -99.1333416.\n"
          ],
          "name": "stdout"
        }
      ]
    },
    {
      "cell_type": "code",
      "metadata": {
        "id": "SmTfyOwTgGcM",
        "colab_type": "code",
        "outputId": "3512b640-c64e-4fca-b20a-054f4eb3bd4c",
        "colab": {
          "base_uri": "https://localhost:8080/",
          "height": 550
        }
      },
      "source": [
        "# create map of Mexico using latitude and longitude values\n",
        "map_mexico = folium.Map(location=[latitude, longitude], zoom_start=10)\n",
        "\n",
        "# add markers to map\n",
        "for lat, lng, city, area in zip(F8charLE['latitude'], F8charLE['longitude'], F8charLE['city'], F8charLE['area']):\n",
        "    label = '{}, {}'.format(city, area)\n",
        "    label = folium.Popup(label, parse_html=True)\n",
        "    folium.CircleMarker(\n",
        "        [lat, lng],\n",
        "        radius=5,\n",
        "        popup=label,\n",
        "        color='blue',\n",
        "        fill=True,\n",
        "        fill_color='#3186cc',\n",
        "        fill_opacity=0.7).add_to(map_mexico)  \n",
        "    \n",
        "map_mexico"
      ],
      "execution_count": 0,
      "outputs": [
        {
          "output_type": "execute_result",
          "data": {
            "text/html": [
              "<div style=\"width:100%;\"><div style=\"position:relative;width:100%;height:0;padding-bottom:60%;\"><iframe src=\"data:text/html;charset=utf-8;base64,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\" style=\"position:absolute;width:100%;height:100%;left:0;top:0;border:none !important;\" allowfullscreen webkitallowfullscreen mozallowfullscreen></iframe></div></div>"
            ],
            "text/plain": [
              "<folium.folium.Map at 0x7f987c2cf2e8>"
            ]
          },
          "metadata": {
            "tags": []
          },
          "execution_count": 54
        }
      ]
    }
  ]
}